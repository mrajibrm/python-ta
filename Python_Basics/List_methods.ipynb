{
 "cells": [
  {
   "cell_type": "markdown",
   "id": "0bc554d7-9305-417e-9abb-656a30903322",
   "metadata": {},
   "source": [
    "# Python List Methods"
   ]
  },
  {
   "cell_type": "code",
   "execution_count": 1,
   "id": "07e4803b-86f5-47c4-94bd-e150b8c3d957",
   "metadata": {},
   "outputs": [],
   "source": [
    "import random"
   ]
  },
  {
   "cell_type": "code",
   "execution_count": 2,
   "id": "5abfc94d-5849-461d-b1ff-23f988e985d7",
   "metadata": {},
   "outputs": [],
   "source": [
    "def reverse_list(nums):\n",
    "    reversed_nums = []\n",
    "    for i in range(len(nums)-1, -1, -1):\n",
    "        reversed_nums.append(nums[i])\n",
    "    return reversed_nums"
   ]
  },
  {
   "cell_type": "code",
   "execution_count": 4,
   "id": "09ed9fa8-394f-4b1e-b64b-a02a1d4e0445",
   "metadata": {},
   "outputs": [],
   "source": [
    "inputs = [[random.randint(-1000,1000) for _ in range(random.randint(1,20))] for _ in range(10)]\n",
    "expected = [ip[::-1] for ip in inputs]\n",
    "results = [reverse_list(ip) for ip in inputs]"
   ]
  },
  {
   "cell_type": "code",
   "execution_count": 6,
   "id": "bf775b4e-58c5-4114-97c0-30c53cccd067",
   "metadata": {},
   "outputs": [
    {
     "name": "stdout",
     "output_type": "stream",
     "text": [
      "[[653, -893], [17, 646, -478, 565, 433, -987, -498, 204, 554, 505, -901], [-553, -101, -664, -613, 610], [58, -974, 688, 466, 872, 985, 993, 317, 424, -739, 731, -987, 264, 798, -553], [356, 168, -119, -654, -863, 996, -972, 50, -120, -11, 25, 137, -249], [221], [817, 348, -528, -449, -983, -308, -14, -467, 725, 874, -276, -989, -265], [-981], [533, 627, -778, 238, -804, -954, -585, 29, -836, -749, 487, 790, 925, 322, -131, 293, 293, -292, 857], [-722, -298, 947, 756, 794, -18, 91, 693, 502, -371, -890, -302, 724, -643, 598]]\n",
      "[[-893, 653], [-901, 505, 554, 204, -498, -987, 433, 565, -478, 646, 17], [610, -613, -664, -101, -553], [-553, 798, 264, -987, 731, -739, 424, 317, 993, 985, 872, 466, 688, -974, 58], [-249, 137, 25, -11, -120, 50, -972, 996, -863, -654, -119, 168, 356], [221], [-265, -989, -276, 874, 725, -467, -14, -308, -983, -449, -528, 348, 817], [-981], [857, -292, 293, 293, -131, 322, 925, 790, 487, -749, -836, 29, -585, -954, -804, 238, -778, 627, 533], [598, -643, 724, -302, -890, -371, 502, 693, 91, -18, 794, 756, 947, -298, -722]]\n",
      "[[-893, 653], [-901, 505, 554, 204, -498, -987, 433, 565, -478, 646, 17], [610, -613, -664, -101, -553], [-553, 798, 264, -987, 731, -739, 424, 317, 993, 985, 872, 466, 688, -974, 58], [-249, 137, 25, -11, -120, 50, -972, 996, -863, -654, -119, 168, 356], [221], [-265, -989, -276, 874, 725, -467, -14, -308, -983, -449, -528, 348, 817], [-981], [857, -292, 293, 293, -131, 322, 925, 790, 487, -749, -836, 29, -585, -954, -804, 238, -778, 627, 533], [598, -643, 724, -302, -890, -371, 502, 693, 91, -18, 794, 756, 947, -298, -722]]\n",
      "True\n"
     ]
    }
   ],
   "source": [
    "print(inputs)\n",
    "print(expected)\n",
    "print(results)\n",
    "print(expected == results)"
   ]
  },
  {
   "cell_type": "code",
   "execution_count": 10,
   "id": "dcd5973e-1b1c-4da4-bacb-89ad56cc3feb",
   "metadata": {},
   "outputs": [
    {
     "name": "stdout",
     "output_type": "stream",
     "text": [
      "[([-282, 988], 988), ([-228, 60, 117, -193, 570], 570), ([658, 220, 98, 552, -617], 98), ([288, -846], -846), ([-445], -445)]\n"
     ]
    }
   ],
   "source": [
    "import random\n",
    "\n",
    "inputs = [(ip, random.choice(ip)) for ip in [[random.randint(-1000, 1000) for _ in range(random.randint(1, 5))] for _ in range(5)]]\n",
    "print(inputs)"
   ]
  },
  {
   "cell_type": "code",
   "execution_count": 11,
   "id": "9825d1a7-a236-4979-bcd9-7330d1cc917e",
   "metadata": {},
   "outputs": [
    {
     "name": "stdout",
     "output_type": "stream",
     "text": [
      "[1, 4, 2, 1, 0]\n"
     ]
    }
   ],
   "source": [
    "expected = [ip[0].index(ip[1]) for ip in inputs]\n",
    "print(expected)"
   ]
  },
  {
   "cell_type": "code",
   "execution_count": 18,
   "id": "967442c9-9e3f-47ad-89fb-f0ebefe97b2c",
   "metadata": {},
   "outputs": [
    {
     "name": "stdout",
     "output_type": "stream",
     "text": [
      "[([874, 536], 64), ([-500, -387, -425, -444], -752), ([-373, -432, -584, 922], -663), ([930, 611, -237], -726), ([87, 381, 427], 592)]\n"
     ]
    }
   ],
   "source": [
    "import random\n",
    "\n",
    "inputs = [([random.randint(-1000, 1000) for _ in range(random.randint(1, 5))], random.randint(-1000, 1000)) for _ in range(5)]\n",
    "\n",
    "print(inputs)"
   ]
  },
  {
   "cell_type": "code",
   "execution_count": 34,
   "id": "16a714e2-34a6-4046-9b1f-d5e9cb9ee3fc",
   "metadata": {},
   "outputs": [
    {
     "name": "stdout",
     "output_type": "stream",
     "text": [
      "The LCM of [-2, -3, 4, -5] is 60\n"
     ]
    }
   ],
   "source": [
    "def lcm_list1(nums):\n",
    "\n",
    "    if len(nums) == 0: # LCM of empty list is 0\n",
    "        return 0\n",
    "\n",
    "    def lcm(a,b):\n",
    "        \"\"\"\n",
    "        Returns the LCM of two integers.\n",
    "        \"\"\"\n",
    "\n",
    "        max_num = max(a, b)\n",
    "        min_num = min(a, b)\n",
    "        lcm = max_num\n",
    "        while True:\n",
    "            if lcm % min_num == 0 and lcm % max_num == 0:\n",
    "                return lcm\n",
    "            lcm += max_num\n",
    "        \n",
    "    result = 1\n",
    "    for num in nums:\n",
    "        result = lcm(result, num)\n",
    "    \n",
    "    return result\n",
    "\n",
    "numbers = [-2, -3, 4, -5]\n",
    "lcm_of_list = lcm_list1(numbers)\n",
    "print(f\"The LCM of {numbers} is {lcm_of_list}\")"
   ]
  },
  {
   "cell_type": "code",
   "execution_count": 27,
   "id": "34b8d3e9-881c-4919-ac79-bef3c7019fdc",
   "metadata": {},
   "outputs": [
    {
     "name": "stdout",
     "output_type": "stream",
     "text": [
      "The LCM of [-2, 3, -4, -5] is 60\n"
     ]
    }
   ],
   "source": [
    "def lcm_list_2(nums):\n",
    "    if not nums: # LCM of empty list is 0\n",
    "        return 0\n",
    "    \n",
    "    # Find Largest number in the list\n",
    "    max_num = max(nums)\n",
    "\n",
    "    # Check if the largest number is already the LCM of the list\n",
    "    is_lcm = True\n",
    "    for num in nums:\n",
    "        if max_num % num != 0:\n",
    "            is_lcm = False\n",
    "            break\n",
    "    # If not LCM keep incresing the largest number until it is the LCM/ divisible by all element\n",
    "    if not is_lcm:\n",
    "        while not is_lcm:\n",
    "            is_lcm = True\n",
    "            max_num += 1\n",
    "            for num in nums:\n",
    "                if max_num % num != 0:\n",
    "                    is_lcm = False\n",
    "                    break\n",
    "    return max_num\n",
    "\n",
    "numbers = [-2, 3, -4, -5]\n",
    "lcm_of_list = lcm_list_2(numbers)\n",
    "print(f\"The LCM of {numbers} is {lcm_of_list}\")"
   ]
  },
  {
   "cell_type": "code",
   "execution_count": 33,
   "id": "4a27f812-c8d7-4813-9188-971edbfa0ffc",
   "metadata": {},
   "outputs": [
    {
     "name": "stdout",
     "output_type": "stream",
     "text": [
      "The LCM of [-2, 3, -4, -5] is -60\n"
     ]
    }
   ],
   "source": [
    "from functools import reduce\n",
    "from math import gcd\n",
    "lcm_list = lambda nums: reduce(lambda x, y: x * y // gcd(x, y), nums)\n",
    "numbers = [-2, 3, -4, -5]\n",
    "lcm_of_list = lcm_list(numbers)\n",
    "print(f\"The LCM of {numbers} is {lcm_of_list}\")"
   ]
  },
  {
   "cell_type": "code",
   "execution_count": 43,
   "id": "1184f7b0-2efc-42b1-b610-62c75dbf5c21",
   "metadata": {},
   "outputs": [
    {
     "name": "stdout",
     "output_type": "stream",
     "text": [
      "value1\n",
      "value2\n"
     ]
    }
   ],
   "source": [
    "dict1 = {'key1': 'value1', 'key2':'value2'}\n",
    "for key in dict1.values():\n",
    "    print(key)\n",
    "    # print(value)"
   ]
  },
  {
   "cell_type": "code",
   "execution_count": 60,
   "id": "1c780872-8bb5-4ac4-83ea-414e6ad4ad5f",
   "metadata": {},
   "outputs": [
    {
     "data": {
      "text/plain": [
       "[0, 1, 1, 2, 3, 5, 8, 13, 21, 34, 55, 89]"
      ]
     },
     "execution_count": 60,
     "metadata": {},
     "output_type": "execute_result"
    }
   ],
   "source": [
    "def generate_fibonacci(n):\n",
    "    if n < 1:\n",
    "        return []\n",
    "    \n",
    "    fib_list = []\n",
    "    a, b = 0, 1\n",
    "\n",
    "    for _ in range(n):\n",
    "        fib_list.append(a)\n",
    "        a, b = b, a + b\n",
    "\n",
    "    return fib_list\n",
    "\n",
    "generate_fibonacci(12)"
   ]
  },
  {
   "cell_type": "code",
   "execution_count": 63,
   "id": "3e0efa0f-633c-435f-af2a-4ada7982a42e",
   "metadata": {},
   "outputs": [],
   "source": [
    "def ratio_of_pairs(nums):\n",
    "    \"\"\"\n",
    "    Given a list of distinct numbers, return a list containing the ratio of all unique pairs of numbers.\n",
    "    \n",
    "    Args:\n",
    "        nums (list): A list of distinct numbers (may contain zero).\n",
    "        \n",
    "    Returns:\n",
    "        list: A list containing the ratio of all unique pairs of numbers.\n",
    "    \"\"\"\n",
    "    result = []\n",
    "    n = len(nums)\n",
    "    for i in range(n):\n",
    "        for j in range(i + 1, n):\n",
    "            num1, num2 = nums[i], nums[j]\n",
    "            if num2 != 0:\n",
    "                pair_ratio = num1 / num2\n",
    "                if pair_ratio not in result:\n",
    "                    result.append(pair_ratio)\n",
    "            elif num1 != 0:\n",
    "                pair_ratio = num2 / num1\n",
    "                if pair_ratio not in result:\n",
    "                    result.append(pair_ratio)\n",
    "    return result"
   ]
  },
  {
   "cell_type": "code",
   "execution_count": 70,
   "id": "03abacaf-dea1-4f96-a904-c8c9d31fdef3",
   "metadata": {},
   "outputs": [
    {
     "name": "stdout",
     "output_type": "stream",
     "text": [
      "[0, 10, -6, -1, 9, 8]\n"
     ]
    },
    {
     "data": {
      "text/plain": [
       "[0.0,\n",
       " -1.6666666666666667,\n",
       " -10.0,\n",
       " 1.1111111111111112,\n",
       " 1.25,\n",
       " 6.0,\n",
       " -0.6666666666666666,\n",
       " -0.75,\n",
       " -0.1111111111111111,\n",
       " -0.125,\n",
       " 1.125]"
      ]
     },
     "execution_count": 70,
     "metadata": {},
     "output_type": "execute_result"
    }
   ],
   "source": [
    "nums = list(range(random.randint(1, 10)))[:0] + [0] + random.sample(range(-10, 11), random.randint(1, 5))\n",
    "print(nums)\n",
    "ratio_of_pairs(nums)\n"
   ]
  },
  {
   "cell_type": "code",
   "execution_count": null,
   "id": "925078e2-2840-45e5-9e4d-f810ce693786",
   "metadata": {},
   "outputs": [],
   "source": []
  },
  {
   "cell_type": "code",
   "execution_count": null,
   "id": "af9c1a87-b31e-4202-9afe-b54abc0be75e",
   "metadata": {},
   "outputs": [],
   "source": []
  }
 ],
 "metadata": {
  "kernelspec": {
   "display_name": "Python 3 (ipykernel)",
   "language": "python",
   "name": "python3"
  },
  "language_info": {
   "codemirror_mode": {
    "name": "ipython",
    "version": 3
   },
   "file_extension": ".py",
   "mimetype": "text/x-python",
   "name": "python",
   "nbconvert_exporter": "python",
   "pygments_lexer": "ipython3",
   "version": "3.10.13"
  }
 },
 "nbformat": 4,
 "nbformat_minor": 5
}
