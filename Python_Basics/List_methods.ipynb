{
 "cells": [
  {
   "cell_type": "markdown",
   "id": "0bc554d7-9305-417e-9abb-656a30903322",
   "metadata": {},
   "source": [
    "# Python List Methods"
   ]
  },
  {
   "cell_type": "code",
   "execution_count": null,
   "id": "9597f0be-5963-450b-8b14-9227e60dc171",
   "metadata": {},
   "outputs": [],
   "source": []
  }
 ],
 "metadata": {
  "kernelspec": {
   "display_name": "Python 3 (ipykernel)",
   "language": "python",
   "name": "python3"
  },
  "language_info": {
   "codemirror_mode": {
    "name": "ipython",
    "version": 3
   },
   "file_extension": ".py",
   "mimetype": "text/x-python",
   "name": "python",
   "nbconvert_exporter": "python",
   "pygments_lexer": "ipython3",
   "version": "3.10.13"
  }
 },
 "nbformat": 4,
 "nbformat_minor": 5
}
