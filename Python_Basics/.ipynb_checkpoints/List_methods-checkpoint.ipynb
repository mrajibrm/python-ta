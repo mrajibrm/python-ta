{
 "cells": [
  {
   "cell_type": "markdown",
   "id": "0bc554d7-9305-417e-9abb-656a30903322",
   "metadata": {},
   "source": [
    "# Python List Methods"
   ]
  },
  {
   "cell_type": "code",
   "execution_count": 1,
   "id": "07e4803b-86f5-47c4-94bd-e150b8c3d957",
   "metadata": {},
   "outputs": [],
   "source": [
    "import random"
   ]
  },
  {
   "cell_type": "code",
   "execution_count": 2,
   "id": "5abfc94d-5849-461d-b1ff-23f988e985d7",
   "metadata": {},
   "outputs": [],
   "source": [
    "def reverse_list(nums):\n",
    "    reversed_nums = []\n",
    "    for i in range(len(nums)-1, -1, -1):\n",
    "        reversed_nums.append(nums[i])\n",
    "    return reversed_nums"
   ]
  },
  {
   "cell_type": "code",
   "execution_count": 4,
   "id": "09ed9fa8-394f-4b1e-b64b-a02a1d4e0445",
   "metadata": {},
   "outputs": [],
   "source": [
    "inputs = [[random.randint(-1000,1000) for _ in range(random.randint(1,20))] for _ in range(10)]\n",
    "expected = [ip[::-1] for ip in inputs]\n",
    "results = [reverse_list(ip) for ip in inputs]"
   ]
  },
  {
   "cell_type": "code",
   "execution_count": 6,
   "id": "bf775b4e-58c5-4114-97c0-30c53cccd067",
   "metadata": {},
   "outputs": [
    {
     "name": "stdout",
     "output_type": "stream",
     "text": [
      "[[653, -893], [17, 646, -478, 565, 433, -987, -498, 204, 554, 505, -901], [-553, -101, -664, -613, 610], [58, -974, 688, 466, 872, 985, 993, 317, 424, -739, 731, -987, 264, 798, -553], [356, 168, -119, -654, -863, 996, -972, 50, -120, -11, 25, 137, -249], [221], [817, 348, -528, -449, -983, -308, -14, -467, 725, 874, -276, -989, -265], [-981], [533, 627, -778, 238, -804, -954, -585, 29, -836, -749, 487, 790, 925, 322, -131, 293, 293, -292, 857], [-722, -298, 947, 756, 794, -18, 91, 693, 502, -371, -890, -302, 724, -643, 598]]\n",
      "[[-893, 653], [-901, 505, 554, 204, -498, -987, 433, 565, -478, 646, 17], [610, -613, -664, -101, -553], [-553, 798, 264, -987, 731, -739, 424, 317, 993, 985, 872, 466, 688, -974, 58], [-249, 137, 25, -11, -120, 50, -972, 996, -863, -654, -119, 168, 356], [221], [-265, -989, -276, 874, 725, -467, -14, -308, -983, -449, -528, 348, 817], [-981], [857, -292, 293, 293, -131, 322, 925, 790, 487, -749, -836, 29, -585, -954, -804, 238, -778, 627, 533], [598, -643, 724, -302, -890, -371, 502, 693, 91, -18, 794, 756, 947, -298, -722]]\n",
      "[[-893, 653], [-901, 505, 554, 204, -498, -987, 433, 565, -478, 646, 17], [610, -613, -664, -101, -553], [-553, 798, 264, -987, 731, -739, 424, 317, 993, 985, 872, 466, 688, -974, 58], [-249, 137, 25, -11, -120, 50, -972, 996, -863, -654, -119, 168, 356], [221], [-265, -989, -276, 874, 725, -467, -14, -308, -983, -449, -528, 348, 817], [-981], [857, -292, 293, 293, -131, 322, 925, 790, 487, -749, -836, 29, -585, -954, -804, 238, -778, 627, 533], [598, -643, 724, -302, -890, -371, 502, 693, 91, -18, 794, 756, 947, -298, -722]]\n",
      "True\n"
     ]
    }
   ],
   "source": [
    "print(inputs)\n",
    "print(expected)\n",
    "print(results)\n",
    "print(expected == results)"
   ]
  },
  {
   "cell_type": "code",
   "execution_count": 8,
   "id": "f2145333-78af-4a4b-8bd5-1ce2cef50ad2",
   "metadata": {},
   "outputs": [
    {
     "ename": "TypeError",
     "evalue": "Random.choice() missing 1 required positional argument: 'seq'",
     "output_type": "error",
     "traceback": [
      "\u001b[1;31m---------------------------------------------------------------------------\u001b[0m",
      "\u001b[1;31mTypeError\u001b[0m                                 Traceback (most recent call last)",
      "Cell \u001b[1;32mIn[8], line 1\u001b[0m\n\u001b[1;32m----> 1\u001b[0m inputs \u001b[38;5;241m=\u001b[39m [([random\u001b[38;5;241m.\u001b[39mrandint(\u001b[38;5;241m-\u001b[39m\u001b[38;5;241m1000\u001b[39m,\u001b[38;5;241m1000\u001b[39m) \u001b[38;5;28;01mfor\u001b[39;00m _ \u001b[38;5;129;01min\u001b[39;00m \u001b[38;5;28mrange\u001b[39m(random\u001b[38;5;241m.\u001b[39mrandint(\u001b[38;5;241m1\u001b[39m,\u001b[38;5;241m20\u001b[39m))], random\u001b[38;5;241m.\u001b[39mchoice()) \u001b[38;5;28;01mfor\u001b[39;00m _ \u001b[38;5;129;01min\u001b[39;00m \u001b[38;5;28mrange\u001b[39m(\u001b[38;5;241m5\u001b[39m)]\n\u001b[0;32m      2\u001b[0m \u001b[38;5;28mprint\u001b[39m \u001b[38;5;241m=\u001b[39m (inputs)\n",
      "Cell \u001b[1;32mIn[8], line 1\u001b[0m, in \u001b[0;36m<listcomp>\u001b[1;34m(.0)\u001b[0m\n\u001b[1;32m----> 1\u001b[0m inputs \u001b[38;5;241m=\u001b[39m [([random\u001b[38;5;241m.\u001b[39mrandint(\u001b[38;5;241m-\u001b[39m\u001b[38;5;241m1000\u001b[39m,\u001b[38;5;241m1000\u001b[39m) \u001b[38;5;28;01mfor\u001b[39;00m _ \u001b[38;5;129;01min\u001b[39;00m \u001b[38;5;28mrange\u001b[39m(random\u001b[38;5;241m.\u001b[39mrandint(\u001b[38;5;241m1\u001b[39m,\u001b[38;5;241m20\u001b[39m))], \u001b[43mrandom\u001b[49m\u001b[38;5;241;43m.\u001b[39;49m\u001b[43mchoice\u001b[49m\u001b[43m(\u001b[49m\u001b[43m)\u001b[49m) \u001b[38;5;28;01mfor\u001b[39;00m _ \u001b[38;5;129;01min\u001b[39;00m \u001b[38;5;28mrange\u001b[39m(\u001b[38;5;241m5\u001b[39m)]\n\u001b[0;32m      2\u001b[0m \u001b[38;5;28mprint\u001b[39m \u001b[38;5;241m=\u001b[39m (inputs)\n",
      "\u001b[1;31mTypeError\u001b[0m: Random.choice() missing 1 required positional argument: 'seq'"
     ]
    }
   ],
   "source": [
    "inputs = [(ip=[random.randint(-1000,1000) for _ in range(random.randint(1,20))], random.choice(ip)) for _ in range(5)]\n",
    "print = (inputs)"
   ]
  },
  {
   "cell_type": "code",
   "execution_count": 10,
   "id": "dcd5973e-1b1c-4da4-bacb-89ad56cc3feb",
   "metadata": {},
   "outputs": [
    {
     "name": "stdout",
     "output_type": "stream",
     "text": [
      "[([-282, 988], 988), ([-228, 60, 117, -193, 570], 570), ([658, 220, 98, 552, -617], 98), ([288, -846], -846), ([-445], -445)]\n"
     ]
    }
   ],
   "source": [
    "import random\n",
    "\n",
    "inputs = [(ip, random.choice(ip)) for ip in [[random.randint(-1000, 1000) for _ in range(random.randint(1, 5))] for _ in range(5)]]\n",
    "print(inputs)"
   ]
  },
  {
   "cell_type": "code",
   "execution_count": 11,
   "id": "9825d1a7-a236-4979-bcd9-7330d1cc917e",
   "metadata": {},
   "outputs": [
    {
     "name": "stdout",
     "output_type": "stream",
     "text": [
      "[1, 4, 2, 1, 0]\n"
     ]
    }
   ],
   "source": [
    "expected = [ip[0].index(ip[1]) for ip in inputs]\n",
    "print(expected)"
   ]
  },
  {
   "cell_type": "code",
   "execution_count": 12,
   "id": "967442c9-9e3f-47ad-89fb-f0ebefe97b2c",
   "metadata": {},
   "outputs": [
    {
     "ename": "TypeError",
     "evalue": "Random.choice() takes 2 positional arguments but 3 were given",
     "output_type": "error",
     "traceback": [
      "\u001b[1;31m---------------------------------------------------------------------------\u001b[0m",
      "\u001b[1;31mTypeError\u001b[0m                                 Traceback (most recent call last)",
      "Cell \u001b[1;32mIn[12], line 1\u001b[0m\n\u001b[1;32m----> 1\u001b[0m inputs \u001b[38;5;241m=\u001b[39m [([random\u001b[38;5;241m.\u001b[39muniform(\u001b[38;5;241m-\u001b[39m\u001b[38;5;241m100\u001b[39m,\u001b[38;5;241m100\u001b[39m) \u001b[38;5;28;01mfor\u001b[39;00m _ \u001b[38;5;129;01min\u001b[39;00m \u001b[38;5;28mrange\u001b[39m(random\u001b[38;5;241m.\u001b[39mrandint(\u001b[38;5;241m0\u001b[39m,\u001b[38;5;241m5\u001b[39m))], random\u001b[38;5;241m.\u001b[39mchoice(\u001b[38;5;241m-\u001b[39m\u001b[38;5;241m100\u001b[39m,\u001b[38;5;241m100\u001b[39m)) \u001b[38;5;28;01mfor\u001b[39;00m _ \u001b[38;5;129;01min\u001b[39;00m \u001b[38;5;28mrange\u001b[39m(\u001b[38;5;241m5\u001b[39m)]\n\u001b[0;32m      2\u001b[0m \u001b[38;5;28mprint\u001b[39m(inputs)\n",
      "Cell \u001b[1;32mIn[12], line 1\u001b[0m, in \u001b[0;36m<listcomp>\u001b[1;34m(.0)\u001b[0m\n\u001b[1;32m----> 1\u001b[0m inputs \u001b[38;5;241m=\u001b[39m [([random\u001b[38;5;241m.\u001b[39muniform(\u001b[38;5;241m-\u001b[39m\u001b[38;5;241m100\u001b[39m,\u001b[38;5;241m100\u001b[39m) \u001b[38;5;28;01mfor\u001b[39;00m _ \u001b[38;5;129;01min\u001b[39;00m \u001b[38;5;28mrange\u001b[39m(random\u001b[38;5;241m.\u001b[39mrandint(\u001b[38;5;241m0\u001b[39m,\u001b[38;5;241m5\u001b[39m))], \u001b[43mrandom\u001b[49m\u001b[38;5;241;43m.\u001b[39;49m\u001b[43mchoice\u001b[49m\u001b[43m(\u001b[49m\u001b[38;5;241;43m-\u001b[39;49m\u001b[38;5;241;43m100\u001b[39;49m\u001b[43m,\u001b[49m\u001b[38;5;241;43m100\u001b[39;49m\u001b[43m)\u001b[49m) \u001b[38;5;28;01mfor\u001b[39;00m _ \u001b[38;5;129;01min\u001b[39;00m \u001b[38;5;28mrange\u001b[39m(\u001b[38;5;241m5\u001b[39m)]\n\u001b[0;32m      2\u001b[0m \u001b[38;5;28mprint\u001b[39m(inputs)\n",
      "\u001b[1;31mTypeError\u001b[0m: Random.choice() takes 2 positional arguments but 3 were given"
     ]
    }
   ],
   "source": [
    "inputs = [([random.uniform(-100,100) for _ in range(random.randint(0,5))], random.choice(1)) for _ in range(5)]\n",
    "print(inputs)"
   ]
  },
  {
   "cell_type": "code",
   "execution_count": null,
   "id": "16a714e2-34a6-4046-9b1f-d5e9cb9ee3fc",
   "metadata": {},
   "outputs": [],
   "source": []
  }
 ],
 "metadata": {
  "kernelspec": {
   "display_name": "Python 3 (ipykernel)",
   "language": "python",
   "name": "python3"
  },
  "language_info": {
   "codemirror_mode": {
    "name": "ipython",
    "version": 3
   },
   "file_extension": ".py",
   "mimetype": "text/x-python",
   "name": "python",
   "nbconvert_exporter": "python",
   "pygments_lexer": "ipython3",
   "version": "3.10.13"
  }
 },
 "nbformat": 4,
 "nbformat_minor": 5
}
