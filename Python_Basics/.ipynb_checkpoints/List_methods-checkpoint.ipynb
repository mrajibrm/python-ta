{
 "cells": [
  {
   "cell_type": "code",
   "execution_count": 21,
   "id": "8dda78f5-f5fd-4d9e-b95c-396da81988c2",
   "metadata": {},
   "outputs": [],
   "source": [
    "def merge_lists_to_dict(keys, values):\n",
    "    \"\"\"\n",
    "    Merge two lists into a dictionary\n",
    "    \n",
    "    Args:\n",
    "        keys (list): List of keys\n",
    "        values (list): List of values\n",
    "        \n",
    "    Returns:\n",
    "        dict: Dictionary with keys and values from input lists\n",
    "    \"\"\"\n",
    "    \n",
    "    # Check if lists are of equal length\n",
    "    if len(keys) != len(values):\n",
    "        raise ValueError(\"Keys and values must be of equal length\")\n",
    "        \n",
    "    # Create dictionary from lists\n",
    "    merged_dict = {}\n",
    "    for i in range(len(keys)):\n",
    "        merged_dict[keys[i]] = values[i]\n",
    "        \n",
    "    return merged_dict"
   ]
  },
  {
   "cell_type": "code",
   "execution_count": 23,
   "id": "ba7144d4-d391-45ee-9be5-f9e8e8ec9eb1",
   "metadata": {},
   "outputs": [
    {
     "name": "stdout",
     "output_type": "stream",
     "text": [
      "['Mp', 'mf', 'Bc', 'vS', '7r']\n"
     ]
    }
   ],
   "source": [
    "import random\n",
    "import string\n",
    "\n",
    "# Define the length of each random string\n",
    "string_length = 2\n",
    "\n",
    "# Define the number of random strings to generate\n",
    "num_strings = 6\n",
    "\n",
    "# Generate a list of random strings\n",
    "random_strings = [''.join(random.choices(string.ascii_letters + string.digits, k=string_length)) for _ in range(num_strings)]\n",
    "\n",
    "print(random_strings)\n"
   ]
  },
  {
   "cell_type": "code",
   "execution_count": 24,
   "id": "200a6094-bcfa-4364-bda0-212564830a58",
   "metadata": {},
   "outputs": [
    {
     "name": "stdout",
     "output_type": "stream",
     "text": [
      "{'Mp': 13, 'mf': 8, 'Bc': 2, 'vS': 10, '7r': 14}\n"
     ]
    }
   ],
   "source": [
    "values = [random.randint(1,15) for _ in range(5)]\n",
    "dict1 = merge_lists_to_dict(random_strings, values)\n",
    "print(dict1)"
   ]
  },
  {
   "cell_type": "code",
   "execution_count": null,
   "id": "9edd7c03-2a98-4f12-bc7e-64e762cb79f0",
   "metadata": {},
   "outputs": [],
   "source": []
  }
 ],
 "metadata": {
  "kernelspec": {
   "display_name": "Python 3 (ipykernel)",
   "language": "python",
   "name": "python3"
  },
  "language_info": {
   "codemirror_mode": {
    "name": "ipython",
    "version": 3
   },
   "file_extension": ".py",
   "mimetype": "text/x-python",
   "name": "python",
   "nbconvert_exporter": "python",
   "pygments_lexer": "ipython3",
   "version": "3.10.13"
  }
 },
 "nbformat": 4,
 "nbformat_minor": 5
}
