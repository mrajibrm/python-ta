{
 "cells": [
  {
   "cell_type": "markdown",
   "id": "5a832300-d482-4830-a1e5-b9c7c020f191",
   "metadata": {},
   "source": [
    "# Python String Methods\n",
    "\n",
    "&copy; 2024 [Rajib_Mandal](https://github.com/mrajibrm)"
   ]
  },
  {
   "cell_type": "markdown",
   "id": "6ae12be7-85f4-4e13-acd3-3f165a35b2aa",
   "metadata": {},
   "source": [
    "## ***Outline***\n",
    "\n",
    "- [1. capitalize() : Converts the first character to upper case.](#1)\n",
    "- [2. casefold() : Converts string into lower case.](#2)\n",
    "- [3. center(): Returns a centered string.](#3)\n",
    "- [4. count(): Returns the number of times a specified value occurs in a string.](#4)\n",
    "- [5. encode(): Returns an encoded version of the string.](#5)\n",
    "- [6. endswith(): Returns true if the string ends with the specified value.](#6)\n",
    "- [7. expandtabs(): Sets the tab size of the string.](#7)\n",
    "- [8. find(): Searches the string for a substring and returns the position of where it was found.](#8)\n",
    "- [9. format(): Formats the string with specified values.](#9)\n",
    "- [10. format_map(): Formats the string with a mapping of keys to values.](#10)\n",
    "- [11. index(): Searches the string for a substring and returns the position of where it was found.](#11)\n",
    "- [12. isalnum(): Returns True if all characters in the string are alphanumeric.](#12)\n",
    "- [13. isalpha(): Returns True if all characters in the string are alphabetic.](#13)\n",
    "- [14. isascii(): Returns True if all characters in the string are ASCII.](#14)\n",
    "- [15. isdecimal(): Returns True if all characters in the string are decimals.](#15)\n",
    "- [16. isdigit(): Returns True if all characters in the string are digits.](#16)\n",
    "- [17. isidentifier(): Returns True if the string is a valid identifier.](#17)\n",
    "- [18. islower(): Returns True if all characters in the string are lowercase.](#18)\n",
    "- [19. isnumeric(): Returns True if all characters in the string are numeric.](#19)\n",
    "- [20. isprintable(): Returns True if all characters in the string are printable.](#20)\n",
    "- [21. isspace(): Returns True if all characters in the string are whitespace.](#21)\n",
    "- [22. istitle(): Returns True if the string follows the rules of a title.](#22)\n",
    "- [23. isupper(): Returns True if all characters in the string are uppercase.](#23)\n",
    "- [24. join(): Concatenates elements of an iterable into a string.](#24)\n",
    "- [25. ljust(): Returns a left-justified version of the string.](#25)\n",
    "- [26. lower(): Converts a string to lowercase.](#26)\n",
    "- [27. lstrip(chars): Removes leading characters from the string.](#27)\n",
    "- [28. maketrans(): Returns a translation table to be used in translations.](#28)\n",
    "- [29. partition(): Splits the string at the first occurrence of the separator and returns a tuple.](#29)\n",
    "- [30. replace(): Replaces occurrences of a substring with another substring.](#30)\n",
    "- [31. rfind(): Searches the string for a substring and returns the last position of where it was found.](#31)\n",
    "- [32. rindex(): Searches the string for a substring and returns the last position of where it was found.](#32)\n",
    "- [33. rjust(): Returns a right-justified version of the string.](#33)\n",
    "- [34. rpartition(): Splits the string at the last occurrence of the separator and returns a tuple.](#34)\n",
    "- [35. rsplit(): Splits the string at the specified separator from the right and returns a list.](#35)\n",
    "- [36. rstrip(): Removes trailing characters from the string.](#36)\n",
    "- [37. split(): Splits the string at the specified separator and returns a list.](#37)\n",
    "- [38. splitlines(): Splits the string at line breaks and returns a list of lines.](#38)\n",
    "- [39. startswith(): Returns true if the string starts with the specified value.](#39)\n",
    "- [40. strip(): Removes leading and trailing characters from the string.](#40)\n",
    "- [41. swapcase(): Swaps cases, lower case becomes upper case and vice versa.](#41)\n",
    "- [42. title(): Converts the first character of each word to uppercase.](#42)\n",
    "- [43. upper(): Converts a string to uppercase.](#43)\n",
    "- [44. zfill(width): Fills the string with zeros until it reaches the specified width.](#44)\n"
   ]
  },
  {
   "cell_type": "markdown",
   "id": "3149a57f-fc32-4e82-9f0c-a1561f1f4462",
   "metadata": {},
   "source": [
    "<a name=\"1\"></a>\n",
    "\n",
    "#### 1. ``capitalize()``: Converts the first character to upper case."
   ]
  },
  {
   "cell_type": "code",
   "execution_count": 5,
   "id": "4e263772-09cd-49eb-a774-5e4e97f4c8c9",
   "metadata": {},
   "outputs": [
    {
     "name": "stdout",
     "output_type": "stream",
     "text": [
      "Sitare university\n"
     ]
    }
   ],
   "source": [
    "s = \"sitare university\"\n",
    "capitalized = s.capitalize()\n",
    "print(capitalized) "
   ]
  },
  {
   "cell_type": "markdown",
   "id": "629129a7-92b5-416d-ac83-b5b1230226de",
   "metadata": {},
   "source": [
    "<a name=\"2\"></a>\n",
    "\n",
    "#### 2. ``casefold()``: Converts string into lower case"
   ]
  },
  {
   "cell_type": "code",
   "execution_count": 6,
   "id": "d160e405-d9a9-4119-81c5-f4a24a41652b",
   "metadata": {},
   "outputs": [
    {
     "name": "stdout",
     "output_type": "stream",
     "text": [
      "i love python!\n"
     ]
    }
   ],
   "source": [
    "s = \"I Love PYTHON!\"\n",
    "lowercase = s.casefold()\n",
    "print(lowercase)\n"
   ]
  },
  {
   "cell_type": "markdown",
   "id": "0a2edf3a-fbb1-4288-8c32-f66176e5acf3",
   "metadata": {},
   "source": [
    "<a name=\"3\"></a>\n",
    "\n",
    "#### 3. ``center(width,[fillchar])``: Returns a centered string."
   ]
  },
  {
   "cell_type": "code",
   "execution_count": 1,
   "id": "e3a791e9-a6bd-45f1-ba79-37becdc71733",
   "metadata": {},
   "outputs": [
    {
     "name": "stdout",
     "output_type": "stream",
     "text": [
      "##hello##\n"
     ]
    }
   ],
   "source": [
    "s = \"hello\"\n",
    "centered = s.center(9,\"#\")\n",
    "print(centered)\n"
   ]
  },
  {
   "cell_type": "markdown",
   "id": "5732591d-2050-4b4a-bc29-6b908a6872db",
   "metadata": {},
   "source": [
    "<a name=\"4\"></a>\n",
    "\n",
    "#### 4. ``count(substring,[start],[end])``: Returns the number of times a specified value occurs in a string."
   ]
  },
  {
   "cell_type": "code",
   "execution_count": 4,
   "id": "cb7d6da4-756e-4837-858d-244dce65af2e",
   "metadata": {},
   "outputs": [
    {
     "name": "stdout",
     "output_type": "stream",
     "text": [
      " Total occurances of i in sitare university is 3\n"
     ]
    }
   ],
   "source": [
    "s = \"sitare university\"\n",
    "count = s.count(\"i\")\n",
    "print(f\" Total occurances of i in {s} is {count}\")\n"
   ]
  },
  {
   "cell_type": "markdown",
   "id": "4d9ab484-69e3-4869-b180-a8d9daeb1409",
   "metadata": {},
   "source": [
    "<a name=\"5\"></a>\n",
    "\n",
    "#### 5. ``encode(encoding, errors)``: Returns an encoded version of the string."
   ]
  },
  {
   "cell_type": "code",
   "execution_count": 25,
   "id": "02f51cc2-ef56-4cbf-b004-dad1f2032c06",
   "metadata": {},
   "outputs": [
    {
     "name": "stdout",
     "output_type": "stream",
     "text": [
      "Originial String: programming is fun!\n",
      "Encoded String: b'programming is fun!'\n"
     ]
    }
   ],
   "source": [
    "s = \"programming is fun!\"\n",
    "encoded = s.encode()\n",
    "print(f\"Originial String: {s}\")\n",
    "print(f\"Encoded String: {encoded}\")\n"
   ]
  },
  {
   "cell_type": "markdown",
   "id": "8086b984-8a8f-4b88-9c5c-35c5e37b29ff",
   "metadata": {},
   "source": [
    "<a name=\"6\"></a>\n",
    "\n",
    "#### 6. ``endswith(suffix, start, end)``: Returns true if the string ends with the specified value."
   ]
  },
  {
   "cell_type": "code",
   "execution_count": 22,
   "id": "54ead290-bfbb-4836-b059-390bd7396b1a",
   "metadata": {},
   "outputs": [
    {
     "name": "stdout",
     "output_type": "stream",
     "text": [
      "True\n"
     ]
    }
   ],
   "source": [
    "s = \"building future technology leaders\"\n",
    "ends_with = s.endswith(\"ers\")\n",
    "print(ends_with) \n"
   ]
  },
  {
   "cell_type": "markdown",
   "id": "33396a04-440d-494e-9796-882b7902d36a",
   "metadata": {},
   "source": [
    "<a name=\"7\"></a>\n",
    "\n",
    "#### 7. ``expandtabs(tabsize=4)``: Sets the tab size of the string."
   ]
  },
  {
   "cell_type": "code",
   "execution_count": 8,
   "id": "bf703c2d-6a14-4b63-9104-f88d626e0b90",
   "metadata": {},
   "outputs": [
    {
     "name": "stdout",
     "output_type": "stream",
     "text": [
      "hello   world\n"
     ]
    }
   ],
   "source": [
    "s = \"hello\\tworld\"\n",
    "expanded = s.expandtabs(4)\n",
    "print(expanded)  # Output: \"hello   world\"\n"
   ]
  },
  {
   "cell_type": "markdown",
   "id": "975e04a8-8246-496d-8019-d85a2807ff25",
   "metadata": {},
   "source": [
    "<a name=\"8\"></a>\n",
    "\n",
    "#### 8. ``find(substring, start, end)``: Searches the string for a substring and returns the position of where it was found."
   ]
  },
  {
   "cell_type": "code",
   "execution_count": 9,
   "id": "cf00aff7-6922-4e85-9d57-2db6e1b1e1d8",
   "metadata": {},
   "outputs": [
    {
     "name": "stdout",
     "output_type": "stream",
     "text": [
      "13\n"
     ]
    }
   ],
   "source": [
    "s = \"sitare university\"\n",
    "position = s.find(\"sity\")\n",
    "print(position)  \n"
   ]
  },
  {
   "cell_type": "markdown",
   "id": "fe4eb188-66fd-4f94-894e-22bd9453a652",
   "metadata": {},
   "source": [
    "<a name=\"9\"></a>\n",
    "\n",
    "#### 9. ``format(*args, kwargs)``: Formats the string with specified values."
   ]
  },
  {
   "cell_type": "code",
   "execution_count": 12,
   "id": "3a8d966b-ab3d-44ef-9443-dbbc836d115c",
   "metadata": {},
   "outputs": [
    {
     "name": "stdout",
     "output_type": "stream",
     "text": [
      "I am a 1st year B.Tech. Computer Science student\n"
     ]
    }
   ],
   "source": [
    "subject = \"Computer Science\"\n",
    "dept = \"B.Tech.\"\n",
    "year = 1\n",
    "formatted = \"I am a {0}st year {1} {2} student\".format(year, dept, subject)\n",
    "print(formatted)\n"
   ]
  },
  {
   "cell_type": "markdown",
   "id": "0b4c9be7-0eac-463d-8b7a-f343bd4f6d21",
   "metadata": {},
   "source": [
    "<a name=\"10\"></a>\n",
    "\n",
    "#### 10. ``format_map(mapping)``: Formats the string with a mapping of keys to values."
   ]
  },
  {
   "cell_type": "code",
   "execution_count": 16,
   "id": "be62e14d-f227-4877-b2cc-3cc0a1ddeff4",
   "metadata": {},
   "outputs": [
    {
     "name": "stdout",
     "output_type": "stream",
     "text": [
      "I'm in B.Tech. 1st year\n"
     ]
    }
   ],
   "source": [
    "data = {'class': 'B.Tech.', 'year': 1}\n",
    "formatted = \"I'm in {class} {year}st year\".format_map(data)\n",
    "print(formatted)  \n"
   ]
  },
  {
   "cell_type": "markdown",
   "id": "0b3c1abf-6ac9-4a2c-a945-9844ddaa4023",
   "metadata": {},
   "source": [
    "<a name=\"11\"></a>\n",
    "\n",
    "#### 11. ``index(substring, start, end)``: Searches the string for a substring and returns the position of where it was found."
   ]
  },
  {
   "cell_type": "code",
   "execution_count": 17,
   "id": "1306d6ac-7163-4d99-a9e6-3baa28dcc890",
   "metadata": {},
   "outputs": [
    {
     "name": "stdout",
     "output_type": "stream",
     "text": [
      "14\n"
     ]
    }
   ],
   "source": [
    "s = \"Python Programming is fun!\"\n",
    "position = s.index(\"ming\")\n",
    "print(position)  \n"
   ]
  },
  {
   "cell_type": "markdown",
   "id": "beb808c1-9512-4019-9c60-a3ffa950b82f",
   "metadata": {},
   "source": [
    "<a name=\"12\"></a>\n",
    "\n",
    "#### 12. ``isalnum()``: Returns True if all characters in the string are alphanumeric."
   ]
  },
  {
   "cell_type": "code",
   "execution_count": 25,
   "id": "de912850-5e7e-4524-b00e-85d1373f87cf",
   "metadata": {},
   "outputs": [
    {
     "name": "stdout",
     "output_type": "stream",
     "text": [
      "True\n"
     ]
    }
   ],
   "source": [
    "s = \"Ihave23ruppes\"\n",
    "is_alnum = s.isalnum()\n",
    "print(is_alnum)  # If you give space in the string it becomes a special symbol then it will return False\n"
   ]
  },
  {
   "cell_type": "markdown",
   "id": "a0f24612-7ea5-48c1-bd51-ba623e68fc91",
   "metadata": {},
   "source": [
    "<a name=\"13\"></a>\n",
    "\n",
    "#### 13. ``isalpha()``: Returns True if all characters in the string are alphabetic."
   ]
  },
  {
   "cell_type": "code",
   "execution_count": 30,
   "id": "cb2df0e6-3e6c-4fc0-8222-26125415eefc",
   "metadata": {},
   "outputs": [
    {
     "name": "stdout",
     "output_type": "stream",
     "text": [
      "True\n"
     ]
    }
   ],
   "source": [
    "s = \"SitareUniversity\"\n",
    "is_alpha = s.isalpha()\n",
    "print(is_alpha)  # Try inserting space or a number or a special character\n"
   ]
  },
  {
   "cell_type": "markdown",
   "id": "e7c082a6-8b6c-494f-989e-ccc14ec0d22c",
   "metadata": {},
   "source": [
    "<a name=\"14\"></a>\n",
    "\n",
    "#### 14. ``isascii()``: Returns True if all characters in the string are ASCII.\n",
    "\n",
    "\n",
    "[Read more about ASCII](https://en.wikipedia.org/wiki/ASCII)"
   ]
  },
  {
   "cell_type": "code",
   "execution_count": 32,
   "id": "261a72e8-829a-4853-8ba5-8a4dcb52b0bc",
   "metadata": {},
   "outputs": [
    {
     "name": "stdout",
     "output_type": "stream",
     "text": [
      "True\n"
     ]
    }
   ],
   "source": [
    "s = \"Try This\"\n",
    "is_ascii = s.isascii()\n",
    "print(is_ascii)  \n"
   ]
  },
  {
   "cell_type": "markdown",
   "id": "cbf0639c-a5e4-48e4-869e-91ac2d57eff9",
   "metadata": {},
   "source": [
    "<a name=\"15\"></a>\n",
    "\n",
    "#### 15. ``isdecimal()``: Returns True if all characters in the string are decimals."
   ]
  },
  {
   "cell_type": "code",
   "execution_count": 35,
   "id": "8ffb746b-c888-4556-820a-cd68d74f83f9",
   "metadata": {},
   "outputs": [
    {
     "name": "stdout",
     "output_type": "stream",
     "text": [
      "True\n"
     ]
    }
   ],
   "source": [
    "s = \"12345\"\n",
    "is_decimal = s.isdecimal()\n",
    "print(is_decimal)  # Try inserting F in string, F is a Hexadecimal vaule equivalent to decimal value 15\n"
   ]
  },
  {
   "cell_type": "markdown",
   "id": "9a31ae85-110d-4edd-8870-8f8e6f79dfcd",
   "metadata": {},
   "source": [
    "<a name=\"16\"></a>\n",
    "\n",
    "#### 16. ``isdigit()``: Returns True if all characters in the string are digits."
   ]
  },
  {
   "cell_type": "code",
   "execution_count": 38,
   "id": "3977af2a-28b3-4010-ae21-b80fb71b8558",
   "metadata": {},
   "outputs": [
    {
     "name": "stdout",
     "output_type": "stream",
     "text": [
      "True\n"
     ]
    }
   ],
   "source": [
    "s = \"12345\"\n",
    "is_digit = s.isdigit()\n",
    "print(is_digit)  # Try instering alphabetic character in the string\n"
   ]
  },
  {
   "cell_type": "markdown",
   "id": "6f5ae41f-c780-45e0-9e00-7417ff96e9e7",
   "metadata": {},
   "source": [
    "<a name=\"17\"> </a>\n",
    "\n",
    "#### 17. ``isidentifier()``: Returns True if the string is a valid identifier.\n"
   ]
  },
  {
   "cell_type": "markdown",
   "id": "64416760-41e0-47a6-841e-8db025d8eeb7",
   "metadata": {},
   "source": [
    "\n",
    "Here's a breakdown of what constitutes a valid identifier:\n",
    "\n",
    "- Alphanumeric characters and underscores: The string can only contain letters (a-z, A-Z), digits (0-9), and underscores (_).\\n\n",
    "\n",
    "- No leading numbers: The first character cannot be a number.\\n\n",
    "\n",
    "- No keywords: The string cannot be a reserved keyword in Python (like ``if``, ``else``, ``while``, etc.)."
   ]
  },
  {
   "cell_type": "code",
   "execution_count": 39,
   "id": "e1b57242-3bc3-4f68-b37c-69c8ae1717ab",
   "metadata": {},
   "outputs": [
    {
     "name": "stdout",
     "output_type": "stream",
     "text": [
      "True\n"
     ]
    }
   ],
   "source": [
    "s = \"hello123\"\n",
    "is_identifier = s.isidentifier()\n",
    "print(is_identifier)  # Try some new string from the above concept\n"
   ]
  },
  {
   "cell_type": "markdown",
   "id": "44923d55-6b3d-41bc-a1eb-4e05949e7c2a",
   "metadata": {},
   "source": [
    "<a name=\"18\"></a>\n",
    "\n",
    "#### 18. ``islower()``: Returns True if all characters in the string are lowercase."
   ]
  },
  {
   "cell_type": "code",
   "execution_count": 40,
   "id": "7cea36a2-2e09-4b88-83d3-78e773843cc7",
   "metadata": {},
   "outputs": [
    {
     "name": "stdout",
     "output_type": "stream",
     "text": [
      "True\n"
     ]
    }
   ],
   "source": [
    "s = \"education is the manifestation of the perfection already in man\"\n",
    "is_lower = s.islower()\n",
    "print(is_lower)  \n"
   ]
  },
  {
   "cell_type": "markdown",
   "id": "3f30db4e-8a52-4b1b-aa81-cc18e27a5f30",
   "metadata": {},
   "source": [
    "<a name=\"19\"></a>\n",
    "\n",
    "#### 19. ``isnumeric()``: Returns True if all characters in the string are numeric."
   ]
  },
  {
   "cell_type": "code",
   "execution_count": 41,
   "id": "2be142cd-986e-45cf-845a-240a171dfa54",
   "metadata": {},
   "outputs": [
    {
     "name": "stdout",
     "output_type": "stream",
     "text": [
      "True\n"
     ]
    }
   ],
   "source": [
    "s = \"9335573182\"\n",
    "is_numeric = s.isnumeric()\n",
    "print(is_numeric)  #\n"
   ]
  },
  {
   "cell_type": "markdown",
   "id": "12000486-f5f4-47f6-9ee8-30600f5d22a6",
   "metadata": {},
   "source": [
    "<a name=\"20\"></a>\n",
    "\n",
    "#### 20. ``isprintable()``: Returns True if all characters in the string are printable."
   ]
  },
  {
   "cell_type": "markdown",
   "id": "416284e9-0b41-4d0c-8d23-e004be9455d9",
   "metadata": {},
   "source": [
    "**What counts as a printable character?**\n",
    "\n",
    "In Python, printable characters generally refer to those representable on a standard output device like a console or printer. This includes:\n",
    "\n",
    "- Letters (uppercase and lowercase)\n",
    "- Digits (0-9)\n",
    "- Punctuation characters (like !, ., ?, etc.)\n",
    "- Whitespace (space character)\n",
    "\n",
    "**What's considered non-printable?**\n",
    "\n",
    "Non-printable characters include:\n",
    "\n",
    "- Newline characters (\\n).\n",
    "- Tab characters (\\t).\n",
    "- Carriage return characters (\\r).\n",
    "- Control characters (used for special purposes).\n",
    "- Characters beyond the standard printable character set (like some symbols or characters from other languages).\n",
    "r languages).\n",
    "rom other languages)"
   ]
  },
  {
   "cell_type": "code",
   "execution_count": 44,
   "id": "cbcf4242-bc1f-4673-9bd0-42b27d64c8f2",
   "metadata": {},
   "outputs": [
    {
     "name": "stdout",
     "output_type": "stream",
     "text": [
      "True\n",
      "False\n"
     ]
    }
   ],
   "source": [
    "print(\"Hello, world!\".isprintable())  # True (all printable characters)\n",
    "print(\"\\nNewline!\".isprintable())     # False (newline character is not printable)\n",
    "# Try your own string from above concept\n"
   ]
  },
  {
   "cell_type": "markdown",
   "id": "3a403af0-e0e6-440d-8d52-777b5f4d7c07",
   "metadata": {},
   "source": [
    "<a name=\"21\"></a>\n",
    "\n",
    "#### 21. ``isspace()``: Returns True if all characters in the string are whitespace."
   ]
  },
  {
   "cell_type": "markdown",
   "id": "9d289f92-184f-49c0-8f78-3dd26b62a7b6",
   "metadata": {},
   "source": [
    "**What are whitespace characters?**\n",
    "\n",
    "Whitespace characters are those that represent spaces that don't get printed but can affect the layout of your text. These include:\n",
    "\n",
    "- Space ( )\n",
    "- Tab (\\t)\n",
    "- Newline (\\n)\n",
    "- Vertical tab (\\v)\n",
    "- Form feed (\\f)\n",
    "- Carriage return (\\r)\n"
   ]
  },
  {
   "cell_type": "code",
   "execution_count": 45,
   "id": "a235451c-33c1-432b-bccc-ec56bb277246",
   "metadata": {},
   "outputs": [
    {
     "name": "stdout",
     "output_type": "stream",
     "text": [
      "False\n",
      "True\n",
      "True\n",
      "False\n",
      "False\n"
     ]
    }
   ],
   "source": [
    "print(\"Hello, world!\".isspace())  # False (not all whitespace)\n",
    "print(\" \".isspace())               # True (all whitespace)\n",
    "print(\"\\t\\n\".isspace())             # True (all whitespace characters)\n",
    "print(\"hello\".isspace())           # False (contains non-whitespace characters)\n",
    "print(\"\".isspace())                # False (empty string is not whitespace)\n"
   ]
  },
  {
   "cell_type": "markdown",
   "id": "9aaa3639-a3e2-4d86-90ad-da3fdbb775c6",
   "metadata": {},
   "source": [
    "<a name=\"22\"></a>\n",
    "\n",
    "#### 22. ``istitle()``: Returns True if the string follows the rules of a title."
   ]
  },
  {
   "cell_type": "markdown",
   "id": "46fa6b9d-fe19-4ec6-a8a0-6ef89c7199ed",
   "metadata": {},
   "source": [
    "Here's a breakdown:\n",
    "\n",
    "- Individual words start with uppercase: The first letter of each word in the string must be uppercase (a-z).\n",
    "- Remaining letters lowercase: The rest of the letters in each word should be lowercase (a-z).\n",
    "- Whitespace is ignored: Whitespace characters (space, tab, newline) are ignored when checking the capitalization.\n",
    "- Symbols and digits are allowed: Letters can be followed by digits (0-9) without breaking the title case.\n",
    "- Empty string is not a title: An empty string is considered not in title case.\n"
   ]
  },
  {
   "cell_type": "code",
   "execution_count": 46,
   "id": "36b16bd9-5f63-4fdc-a9bf-fe4b9c7d1500",
   "metadata": {},
   "outputs": [
    {
     "name": "stdout",
     "output_type": "stream",
     "text": [
      "True\n",
      "False\n",
      "True\n",
      "False\n",
      "False\n"
     ]
    }
   ],
   "source": [
    "print(\"This Is A Title\".istitle())  # True (all rules followed)\n",
    "print(\"this is not a title\".istitle())  # False (words not starting with uppercase)\n",
    "print(\"This Is A Title123\".istitle())  # True (alphanumeric characters allowed)\n",
    "print(\"This is A Title!\".istitle())  # False (punctuation except whitespace not allowed)\n",
    "print(\" \".istitle())                 # False (empty string is not a title)\n"
   ]
  },
  {
   "cell_type": "markdown",
   "id": "776f6acb-7f7e-40c3-9e13-40c375bf9e10",
   "metadata": {},
   "source": [
    "<a name=\"23\"></a>\n",
    "\n",
    "#### 23. isupper(): Returns True if all characters in the string are uppercase."
   ]
  },
  {
   "cell_type": "code",
   "execution_count": 47,
   "id": "d3488c84-8f2f-441d-ae8a-7fe2b2a8624a",
   "metadata": {},
   "outputs": [
    {
     "name": "stdout",
     "output_type": "stream",
     "text": [
      "True\n"
     ]
    }
   ],
   "source": [
    "s = \"HELLO\"\n",
    "is_upper = s.isupper()\n",
    "print(is_upper)  # Try your Own string\n"
   ]
  },
  {
   "cell_type": "markdown",
   "id": "c1b70ad2-74cc-48c2-8578-5fe1f57f47f3",
   "metadata": {},
   "source": [
    "<a name=\"24\"></a>\n",
    "\n",
    "#### 24. ``join(iterable, sep=\" \")``: Concatenates elements of an iterable into a string."
   ]
  },
  {
   "cell_type": "markdown",
   "id": "b30edb3b-c72a-45ac-a77d-29ee494d5df2",
   "metadata": {},
   "source": [
    " **iterable:** This is the object you want to join. It can be a list, tuple, or any other iterable containing strings.\n",
    "\n",
    "**sep (optional):** This is the separator string (defaults to a space) inserted between elements during joining.\n",
    "\n",
    "\n",
    "**What happens during join()?**\n",
    "\n",
    "1. It iterates through each element in the provided iterable.\n",
    "2. It converts each element to a string (using str() if necessary).\n",
    "3. It inserts the separator string (sep) between each element's string representation.\n",
    "4. Finally, it returns the combined string.\n"
   ]
  },
  {
   "cell_type": "code",
   "execution_count": 52,
   "id": "20d18f96-54b2-459f-a5a4-dbcb800e26aa",
   "metadata": {},
   "outputs": [
    {
     "name": "stdout",
     "output_type": "stream",
     "text": [
      "Customized with Seperator: apple, banana, cherry\n",
      "Joined with white-space: hello world how are you\n"
     ]
    }
   ],
   "source": [
    "items = ['apple', 'banana', 'cherry']\n",
    "joined = ', '.join(items)\n",
    "print(f\"Customized with Seperator: {joined}\")  # Output: \"apple, banana, cherry\"\n",
    "\n",
    "words = [\"hello\", \"world\", \"how\", \"are\", \"you\"]\n",
    "joined_string = \" \".join(words)  # Join with space as separator\n",
    "print(f\"Joined with white-space: {joined_string}\")  # Output: hello world how are you\n",
    "\n"
   ]
  },
  {
   "cell_type": "markdown",
   "id": "b461e227-10d6-4e58-ad5b-970792385212",
   "metadata": {},
   "source": [
    "<a name=\"25\"> </a>\n",
    "\n",
    "#### 25. ``ljust(width, fillchar)``: Returns a left-justified version of the string."
   ]
  },
  {
   "cell_type": "code",
   "execution_count": 56,
   "id": "6e7ed5f3-64fd-4260-99ac-60b0d6bcbd18",
   "metadata": {
    "scrolled": true
   },
   "outputs": [
    {
     "name": "stdout",
     "output_type": "stream",
     "text": [
      "hello      E\n",
      "hello E\n",
      "hello*****\n"
     ]
    }
   ],
   "source": [
    "original_string = \"hello\"\n",
    "left_justified1 = original_string.ljust(10)  # Padding with default space (width=10)\n",
    "left_justified2 = original_string.ljust(5)   # No padding needed (width=5)\n",
    "left_justified3 = original_string.ljust(10, \"*\")  # Padding with asterisk (width=10, fillchar=\"*\")\n",
    "\n",
    "print(left_justified1,\"E\")  # Output: hello      (padded with 5 spaces).   **E specifies the end of justified string\n",
    "print(left_justified2,\"E\")  # Output: hello  (no padding)     **E specifies the end of justified string\n",
    "print(left_justified3)  # Output: hello****** (padded with asterisks)\n"
   ]
  },
  {
   "cell_type": "markdown",
   "id": "d0220d2d-816c-4bdd-8905-5b07f20ac7f7",
   "metadata": {},
   "source": [
    "<a name=\"26\"></a>\n",
    "\n",
    "#### 26. ``lower()``: Converts a string to lowercase."
   ]
  },
  {
   "cell_type": "code",
   "execution_count": 57,
   "id": "4df54d05-23ed-418b-bc8c-9dc97750507c",
   "metadata": {},
   "outputs": [
    {
     "name": "stdout",
     "output_type": "stream",
     "text": [
      "hello\n"
     ]
    }
   ],
   "source": [
    "s = \"HELLO\"\n",
    "lower_case = s.lower()\n",
    "print(lower_case)  #\n"
   ]
  },
  {
   "cell_type": "markdown",
   "id": "071702ca-6f68-4d53-b611-e1f29b0f95eb",
   "metadata": {},
   "source": [
    "<a name=\"27\"></a>\n",
    "\n",
    "#### 27. ``lstrip(chars)``: Removes leading characters from the string."
   ]
  },
  {
   "cell_type": "markdown",
   "id": "4261abbe-acbb-4be9-b338-6fbae1f80c16",
   "metadata": {},
   "source": [
    "**Functionality:**\n",
    "\n",
    "- It takes an optional argument `chars`    \n",
    "  - If `chars` is not provided (or `None`), it removes leading whitespace characters (spaces, tabs, newlines, etc.) by defaul    \n",
    "  - If `chars` is provided as a string, it removes any characters from the beginning of the string that are present in the `chars` string. The removal happens until a character not in `chars` is encountered.\n"
   ]
  },
  {
   "cell_type": "code",
   "execution_count": 61,
   "id": "45863301-a2a9-47e0-b3a7-9fa26550807c",
   "metadata": {},
   "outputs": [
    {
     "name": "stdout",
     "output_type": "stream",
     "text": [
      "hello world   \n",
      "hello world##$$\n"
     ]
    }
   ],
   "source": [
    "text_with_spaces = \"   hello world   \"\n",
    "text_with_symbols = \"$$##hello world##$$\"\n",
    "\n",
    "# Removing leading whitespaces (default behavior)\n",
    "stripped_without_arg = text_with_spaces.lstrip()\n",
    "print(stripped_without_arg)  # Output: \"hello world   \"\n",
    "\n",
    "# Removing leading dollar signs and hashes\n",
    "stripped_custom = text_with_symbols.lstrip(\"$#\")\n",
    "print(stripped_custom)  # Output: \"hello world##$$\"\n"
   ]
  },
  {
   "cell_type": "markdown",
   "id": "2ffd7315-7461-4c9f-93cb-79c21c7ea082",
   "metadata": {},
   "source": [
    "<a name=\"28\"></a>\n",
    "\n",
    "#### 28. ``maketrans(x, y, z)``: Returns a translation table to be used in translations."
   ]
  },
  {
   "cell_type": "markdown",
   "id": "6639de84-28c8-4065-9325-a987cdfa29a3",
   "metadata": {},
   "source": [
    "**Arguments:**\n",
    "\n",
    "- `x` (required): This can be one of two things:\n",
    "  - A dictionary mapping Unicode code points (integer representations of characters) or characters (strings of length 1) to their replacements (integers, strings, or None). Character keys will be converted to their Unicode code points internally.\n",
    "  - A string containing the characters to be replaced.\n",
    "- `y` (optional): This string specifies the replacement characters for the characters in `x`. The length of `y` should match the length of `x`. If it's shorter, the characters in `y` are cycled through to fill the remaining replacements.\n",
    "- `z` (optional): This is the default replacement character. If not provided, it defaults to the same value as `x`.\n",
    "\n",
    "**Return Value:**\n",
    "\n",
    "`maketrans()` returns a translation table, which is a dictionary mapping integer representations (Unicode code points) of characters to their corresponding replacements (integers, strings, or None).\n",
    "\n",
    "**How the translation table works:**\n",
    "\n",
    "- When you use the `translate()` method with the translation table created by `maketrans()`, it iterates through each character in the string.\n",
    "- It looks up the character's Unicode code point in the translation table.\n",
    "- If a match is found, the character is replaced with the corresponding value from the translation table.\n",
    "- If no match is found, the character remains unchanged.\n",
    "- If the replacement value in the table is None, the character is removed from the string.\n"
   ]
  },
  {
   "cell_type": "code",
   "execution_count": 65,
   "id": "b65fa975-7229-4352-8b6b-2b29aec20604",
   "metadata": {},
   "outputs": [
    {
     "name": "stdout",
     "output_type": "stream",
     "text": [
      "HEllO, wOrld!\n",
      "h2ll4\n"
     ]
    }
   ],
   "source": [
    "# Create a translation table to replace vowels with uppercase vowels\n",
    "table = str.maketrans(\"aeiou\", \"AEIOU\")\n",
    "text = \"Hello, world!\"\n",
    "translated_text = text.translate(table)\n",
    "print(translated_text)  \n",
    "\n",
    "# Another example to replace vowels with numbers\n",
    "intab = \"aeiou\"\n",
    "outtab = \"12345\"\n",
    "translation_table = str.maketrans(intab, outtab)\n",
    "s = \"hello\"\n",
    "translated = s.translate(translation_table)\n",
    "print(translated)  \n"
   ]
  },
  {
   "cell_type": "markdown",
   "id": "77e412a5-8049-48a2-afb3-46d6e6a8da6e",
   "metadata": {},
   "source": [
    "<a name=\"29\"></a>\n",
    "\n",
    "#### 29. ``partition(separator)``: Splits the string at the first occurrence of the separator and returns a tuple."
   ]
  },
  {
   "cell_type": "markdown",
   "id": "4eb38f21-41aa-4c30-95ea-45984869d2e1",
   "metadata": {},
   "source": [
    "**Functionality:**\n",
    "\n",
    "- **Splitting the string:** It searches for the first occurrence of the provided separator string within the original string.\n",
    "- **Creating the tuple:** If the separator is found:\n",
    "  - The first element of the tuple is the part of the string before the separator.\n",
    "  - The second element is the separator itself.\n",
    "  - The third element is the part of the string after the separator.\n",
    "- **Separator not found:** If the separator is not found in the string:\n",
    "  - The entire original string becomes the first element of the tuple.\n",
    "  - The second and third elements are empty strings.\n",
    "\n",
    "**Return Value:**\n",
    "\n",
    "A tuple containing three elements:\n",
    "1. The part before the separator (or the entire string if not found).\n",
    "2. The separator itself (or an empty string if not found).\n",
    "3. The part after the separator (or an empty string if not found).\n"
   ]
  },
  {
   "cell_type": "code",
   "execution_count": 66,
   "id": "d6bd59ba-6104-4441-a788-7cffafa9fed3",
   "metadata": {},
   "outputs": [
    {
     "name": "stdout",
     "output_type": "stream",
     "text": [
      "('hello', ' ', 'world')\n"
     ]
    }
   ],
   "source": [
    "s = \"hello world\"\n",
    "partitioned = s.partition(\" \")\n",
    "print(partitioned)  # Output: (\"hello\", \" \", \"world\")\n"
   ]
  },
  {
   "cell_type": "markdown",
   "id": "57e20aeb-e2a8-4545-88b8-d193673b4d04",
   "metadata": {},
   "source": [
    "<a name=\"30\"></a>\n",
    "\n",
    "#### 30. ``replace(old, new, count)``: Replaces occurrences of a substring with another substring."
   ]
  },
  {
   "cell_type": "markdown",
   "id": "49fbb67d-758b-41fe-a805-0b6fad1f8983",
   "metadata": {},
   "source": [
    "**Arguments:**\n",
    "\n",
    "- `old` (required): This is the substring you want to replace within the original string. It can be a string of any length.\n",
    "- `new` (required): This is the replacement substring that will take the place of `old`. It can also be a string of any length.\n",
    "- `count` (optional): This argument specifies the maximum number of replacements to perform. By default (count is not provided), all occurrences of `old` are replaced with `new`.\n",
    "\n",
    "**Return Value:**\n",
    "\n",
    "The `replace()` method returns a new string where the specified replacements have been made. The original string remains unmodified.\n",
    "\n",
    "**How it works:**\n",
    "\n",
    "1. The method iterates through the original string.\n",
    "2. It searches for occurrences of the `old` substring.\n",
    "3. If `count` is not provided (or set to a negative value like -1), all occurrences of `old` are replaced with `new`.\n",
    "4. If `count` is provided, it replaces only the first `count` occurrences of `old` with `new`.\n"
   ]
  },
  {
   "cell_type": "code",
   "execution_count": 67,
   "id": "5aea2a8c-6ea6-4fed-956b-2f19e6af1646",
   "metadata": {},
   "outputs": [
    {
     "name": "stdout",
     "output_type": "stream",
     "text": [
      "Sitare Foundation\n",
      "This is a string with some words that are being replaced.\n",
      "This is a string with some words that are being replaced.\n"
     ]
    }
   ],
   "source": [
    "# Example : 1\n",
    "s = \"Sitare University\"\n",
    "replaced = s.replace(\"University\", \"Foundation\")\n",
    "print(replaced)  \n",
    "\n",
    "# Example 2:\n",
    "text = \"This is a string with some words that will be replaced.\"\n",
    "\n",
    "# Replace all occurrences of \"will be\" with \"are being\"\n",
    "replaced_text1 = text.replace(\"will be\", \"are being\")\n",
    "print(replaced_text1)  # Output: This is a string with some words that are being replaced.\n",
    "\n",
    "# Replace only the first occurrence of \"will be\" with \"are being\"\n",
    "replaced_text2 = text.replace(\"will be\", \"are being\", 1)\n",
    "print(replaced_text2)  # Output: This is a string with some words that are being replaced.\n"
   ]
  },
  {
   "cell_type": "markdown",
   "id": "f777bf44-3750-45a5-b684-0109485a2b00",
   "metadata": {},
   "source": [
    "<a name=\"31\"></a>\n",
    "\n",
    "#### 31. ``rfind(substring, start, end)``: Searches the string for a substring and returns the last position of where it was found."
   ]
  },
  {
   "cell_type": "markdown",
   "id": "d73a81de-e6d9-405e-b2ff-1e4eedd8238c",
   "metadata": {},
   "source": [
    "**Functionality:**\n",
    "\n",
    "- **Searching the string:** It searches for the substring (`substring`) within the original string, starting from the end of the string and working backwards.\n",
    "- **Finding the last occurrence:** If the substring is found, it returns the starting index of the last occurrence.\n",
    "- **Substring not found:** If the substring is not found within the search area, it returns -1.\n",
    "\n",
    "**Arguments:**\n",
    "\n",
    "- `substring` (required): This is the string you're looking for within the original string.\n",
    "- `start` (optional): This defines the starting index (inclusive) from where the search should begin. Defaults to 0 (the beginning of the string) if not provided.\n",
    "- `end` (optional): This defines the ending index (exclusive) up to which the search should be performed. Defaults to the length of the string if not provided. Values beyond the string length are treated as the string length.\n",
    "\n",
    "**Return Value:**\n",
    "\n",
    "The starting index of the last occurrence of the substring within the specified search area, or -1 if not found.\n"
   ]
  },
  {
   "cell_type": "code",
   "execution_count": 69,
   "id": "93ebb84f-2694-41f4-913e-f2b6c9beb1c5",
   "metadata": {},
   "outputs": [
    {
     "name": "stdout",
     "output_type": "stream",
     "text": [
      "8\n",
      "37\n",
      "37\n",
      "-1\n"
     ]
    }
   ],
   "source": [
    "# Example 1:\n",
    "s = \"hello world\"\n",
    "position = s.rfind(\"r\")\n",
    "print(position)  # Output: 8\n",
    "\n",
    "\n",
    "# Example 2:\n",
    "text = \"This is a string with multiple words apple\"\n",
    "\n",
    "# Find the last occurrence of \"apple\" (default search area)\n",
    "last_apple = text.rfind(\"apple\")\n",
    "print(last_apple)  # Output: 37\n",
    "\n",
    "# Find the last occurrence of \"apple\" starting from index 15 (excluding first 15 characters)\n",
    "last_apple_from_15 = text.rfind(\"apple\", 15)\n",
    "print(last_apple_from_15)  # Output: 37\n",
    "\n",
    "# Find the last occurrence of \"apple\" within the first 20 characters\n",
    "last_apple_in_20 = text.rfind(\"apple\", 0, 20)\n",
    "print(last_apple_in_20)  # Output: -1 (not found within the specified range)\n",
    "\n"
   ]
  },
  {
   "cell_type": "markdown",
   "id": "8a339a84-43f9-44f7-bb59-009db5d7300a",
   "metadata": {},
   "source": [
    "<a name=\"32\"></a>\n",
    "\n",
    "#### 32. ``rindex(substring, start, end)``: Searches the string for a substring and returns the last position of where it was found."
   ]
  },
  {
   "cell_type": "markdown",
   "id": "2dc382fe-d4a9-4d7f-8828-c477565902dd",
   "metadata": {},
   "source": [
    "**Functionality:**\n",
    "\n",
    "- **Searching the string:** They search for the substring (`substring`) within the original string, starting from the end of the string and working backwards.\n",
    "- **Finding the last occurrence:** If the substring is found, they return the starting index of the last occurrence.\n",
    "- **Substring not found:** If the substring is not found within the search area, they return -1.\n",
    "\n",
    "**Arguments:**\n",
    "\n",
    "- `substring` (required): This is the string you're looking for within the original string.\n",
    "- `start` (optional): This defines the starting index (inclusive) from where the search should begin. Defaults to 0 (the beginning of the string) if not provided.\n",
    "- `end` (optional): This defines the ending index (exclusive) up to which the search should be performed. Defaults to the length of the string if not provided. Values beyond the string length are treated as the string length.\n",
    "\n",
    "**Return Value:**\n",
    "\n",
    "The starting index of the last occurrence of the substring within the specified search area, or -1 if not found.\n",
    "\n",
    "**Key Points:**\n",
    "\n",
    "- Both `rfind()` and `rindex()` are essentially the same method with the same behavior. There might be slight implementation differences depending on the Python version, but for most practical purposes, they are interchangeable.\n",
    "- They are useful when you need to find the last occurrence of a substring, especially if the substring might appear multiple times.\n",
    "- The optional `start` and `end` arguments allow you to control the search area within the string, making them more versatile for specific use cases.\n",
    "- While `rindex()` exists in Python, it's generally recommended to use `rfind()` as it's more widely used and documented.\n"
   ]
  },
  {
   "cell_type": "code",
   "execution_count": 73,
   "id": "603281d8-2997-4333-b7cd-278670a0de2d",
   "metadata": {},
   "outputs": [
    {
     "name": "stdout",
     "output_type": "stream",
     "text": [
      "8\n"
     ]
    }
   ],
   "source": [
    "# Example 1:\n",
    "s = \"hello world\"\n",
    "position = s.rindex(\"r\")\n",
    "print(position)  # Output: 8\n"
   ]
  },
  {
   "cell_type": "markdown",
   "id": "87e708c9-b9e3-4ba5-bde4-4f82408a919c",
   "metadata": {},
   "source": [
    "<a name=\"33\"></a>\n",
    "\n",
    "#### 33. ``rjust(width, fillchar)``: Returns a right-justified version of the string."
   ]
  },
  {
   "cell_type": "markdown",
   "id": "1ac205c3-a0e8-45aa-9e0a-371ebdccbcc2",
   "metadata": {},
   "source": [
    "**Functionality:**\n",
    "\n",
    "- It takes two arguments (both optional):\n",
    "  - `string`: The string you want to right-justify.\n",
    "  - `width` (optional): The desired minimum total width of the resulting string. Defaults to the length of the original string if not provided.\n",
    "- It pads the left side of the string with a specific character (fill character) to reach the specified width.\n",
    "- By default, the fill character is a space (\" \").\n",
    "\n",
    "**Return Value:**\n",
    "\n",
    "- It returns a new string that's right-justified and padded with the fill character to reach the desired width.\n",
    "- If the original string length is already greater than or equal to the provided width, the original string is returned without any modifications.\n"
   ]
  },
  {
   "cell_type": "code",
   "execution_count": 74,
   "id": "2dd20285-2bf5-4bb7-bafc-dfc5176d5b51",
   "metadata": {},
   "outputs": [
    {
     "name": "stdout",
     "output_type": "stream",
     "text": [
      "     hello\n",
      "hello\n",
      "*****hello\n"
     ]
    }
   ],
   "source": [
    "original_string = \"hello\"\n",
    "right_justified1 = original_string.rjust(10)  # Padding with default space (width=10)\n",
    "right_justified2 = original_string.rjust(5)   # No padding needed (width=5)\n",
    "right_justified3 = original_string.rjust(10, \"*\")  # Padding with asterisk (width=10, fillchar=\"*\")\n",
    "\n",
    "print(right_justified1)  # Output:      hello (padded with 5 spaces)\n",
    "print(right_justified2)  # Output: hello  (no padding)\n",
    "print(right_justified3)  # Output: *******hello (padded with asterisks)\n"
   ]
  },
  {
   "cell_type": "markdown",
   "id": "b4ff17e9-c179-4416-80b1-67d97b84f02c",
   "metadata": {},
   "source": [
    "<a name=\"34\"></a>\n",
    "\n",
    "#### 34. ``rpartition(separator)``: Splits the string at the last occurrence of the separator and returns a tuple."
   ]
  },
  {
   "cell_type": "markdown",
   "id": "ed064968-6962-4ee9-870a-e21381f84763",
   "metadata": {},
   "source": [
    "**Functionality:**\n",
    "\n",
    "- **Splitting the string:** It searches for the last occurrence of the provided separator string within the original string.\n",
    "- **Creating the tuple:** If the separator is found:\n",
    "  - The first element of the tuple is the part of the string before the separator.\n",
    "  - The second element is the separator itself.\n",
    "  - The third element is the part of the string after the separator.\n",
    "- **Separator not found:** If the separator is not found in the string:\n",
    "  - The entire original string becomes the first element of the tuple.\n",
    "  - The second and third elements are empty strings.\n",
    "\n",
    "**Return Value:**\n",
    "\n",
    "A tuple containing three elements:\n",
    "1. The part before the separator (or the entire string if not found).\n",
    "2. The separator itself (or an empty string if not found).\n",
    "3. The part after the separator (or an empty string if not found).\n"
   ]
  },
  {
   "cell_type": "code",
   "execution_count": 75,
   "id": "88664d0b-78ee-410d-b6bf-464a9a7a8abe",
   "metadata": {},
   "outputs": [
    {
     "name": "stdout",
     "output_type": "stream",
     "text": [
      "('hello', ' ', 'world')\n"
     ]
    }
   ],
   "source": [
    "s = \"hello world\"\n",
    "partitioned = s.rpartition(\" \")\n",
    "print(partitioned)  # Output: (\"hello\", \" \", \"world\")\n"
   ]
  },
  {
   "cell_type": "markdown",
   "id": "17039c9c-2121-45bb-b7c2-8d85fdb78907",
   "metadata": {},
   "source": [
    "<a name=\"35\"></a>\n",
    "\n",
    "#### 35. ``rsplit(separator, maxsplit)``: Splits the string at the specified separator from the right and returns a list."
   ]
  },
  {
   "cell_type": "markdown",
   "id": "6b736620-5b72-4ab4-9a02-81aa0a0e8dea",
   "metadata": {},
   "source": [
    "**Functionality:**\n",
    "\n",
    "- **Splitting the string:** It searches for the occurrences of the provided separator string within the original string, starting from the right side and working backwards.\n",
    "- **Creating the list:** Based on the separator and maxsplit argument:\n",
    "  - If no separator is provided (or it's `None`), it splits the string by all whitespace characters (spaces, tabs, newlines, etc.) from the right.\n",
    "  - If a separator is provided, it splits the string at the occurrences of the separator from the right.\n",
    "  - The split parts are included in a list, preserving the order from right to left in the original string.\n",
    "\n",
    "**Arguments:**\n",
    "\n",
    "- `separator` (optional): This is the string you want to use as a delimiter for splitting. If not provided (or `None`), it splits by whitespace.\n",
    "- `maxsplit` (optional): This argument specifies the maximum number of splits to perform. By default (maxsplit is not provided or set to -1), it splits the string at all occurrences of the separator. If maxsplit is a positive number, it splits up to that many times, resulting in a list with maxsplit + 1 elements (including the parts not split by the separator).\n",
    "\n",
    "**Return Value:**\n",
    "\n",
    "- A list containing the substrings obtained by splitting the original string from the right side based on the separator and maxsplit argument.\n"
   ]
  },
  {
   "cell_type": "code",
   "execution_count": 76,
   "id": "c013e32e-a350-493a-8a1f-1c603567fe51",
   "metadata": {},
   "outputs": [
    {
     "name": "stdout",
     "output_type": "stream",
     "text": [
      "['hello', 'world']\n",
      "['This', 'is', 'a', 'string', 'with', 'multiple', 'words']\n",
      "['This is a string with', 'multiple', 'words']\n",
      "['This is a string', 'with', 'multiple', 'words']\n"
     ]
    }
   ],
   "source": [
    "# Example: 1\n",
    "s = \"hello world\"\n",
    "split_list = s.rsplit(\" \", 1)\n",
    "print(split_list)  # Output: [\"hello\", \"world\"]\n",
    "\n",
    "\n",
    "# Example 2:\n",
    "text = \"This is a string with multiple words\"\n",
    "\n",
    "# Split the string at all whitespace characters from the right (default maxsplit is 0, meaning all)\n",
    "words_from_right = text.rsplit()\n",
    "print(words_from_right)  # Output: ['This', 'is', 'a', 'string', 'with', 'multiple', 'words']\n",
    "\n",
    "# Split the string at the last 2 occurrences of \" \" (space)\n",
    "words_from_right_2 = text.rsplit(\" \", 2)\n",
    "print(words_from_right_2)  # Output: ['This is a string with', 'multiple', 'words']\n",
    "\n",
    "# Split the string at all whitespace characters limited to 3 splits\n",
    "words_from_right_limited = text.rsplit(\" \", maxsplit=3)\n",
    "print(words_from_right_limited)  # Output: ['This is a string', 'with', 'multiple', 'words']\n"
   ]
  },
  {
   "cell_type": "markdown",
   "id": "f7ccf3ab-0f8e-4fbf-975c-447d6cbbe557",
   "metadata": {},
   "source": [
    "<a name=\"36\"></a>\n",
    "\n",
    "#### 36. ``rstrip(chars)``: Removes trailing characters from the string."
   ]
  },
  {
   "cell_type": "markdown",
   "id": "a90c0b1d-3c41-4b6a-82c1-128d3de65aaf",
   "metadata": {},
   "source": [
    "**Functionality:**\n",
    "\n",
    "- It takes an optional argument `chars`:\n",
    "  - If `chars` is not provided (or `None`), it removes trailing whitespace characters (spaces, tabs, newlines, etc.) by default.\n",
    "  - If `chars` is provided as a string, it removes any characters from the end of the string that are present in the `chars` string. The removal happens until a character not in `chars` is encountered.\n",
    "\n",
    "**Return Value:**\n",
    "\n",
    "- It returns a new string with the trailing characters removed according to the specified behavior (whitespace by default or custom characters).\n"
   ]
  },
  {
   "cell_type": "code",
   "execution_count": 77,
   "id": "43b5d927-5dcc-4302-8ed9-43f0fc103191",
   "metadata": {},
   "outputs": [
    {
     "name": "stdout",
     "output_type": "stream",
     "text": [
      "   hello world\n",
      "$$##hello world\n"
     ]
    }
   ],
   "source": [
    "text_with_spaces = \"   hello world   \"\n",
    "text_with_symbols = \"$$##hello world##$$\"\n",
    "\n",
    "# Removing trailing whitespaces (default behavior)\n",
    "stripped_without_arg = text_with_spaces.rstrip()\n",
    "print(stripped_without_arg)  # Output: \"   hello world\"\n",
    "\n",
    "# Removing trailing dollar signs and hashes\n",
    "stripped_custom = text_with_symbols.rstrip(\"$#\")\n",
    "print(stripped_custom)  # Output: \"$$##hello world\"\n"
   ]
  },
  {
   "cell_type": "markdown",
   "id": "305bf5fb-c4ac-49bc-b41a-2847ee9ca7a1",
   "metadata": {},
   "source": [
    "<a name=\"37\"></a>\n",
    "\n",
    "#### 37. ``split(separator, maxsplit)``: Splits the string at the specified separator and returns a list."
   ]
  },
  {
   "cell_type": "markdown",
   "id": "17eda14e-d99d-4c21-8465-9edabff9d304",
   "metadata": {},
   "source": [
    "**Functionality:**\n",
    "\n",
    "- **Splitting the string:** It searches for occurrences of the provided separator string within the original string.\n",
    "- **Creating the list:** It splits the string at each occurrence of the separator, including the empty substrings that may appear between adjacent separators or at the beginning/end of the string if the separator is found there.\n",
    "- **Preserving order:** The substrings are included in the resulting list while maintaining their original order within the string.\n",
    "\n",
    "**Arguments:**\n",
    "\n",
    "- `separator` (optional): This is the string you want to use as a delimiter for splitting. If not provided (or `None`), it splits by any whitespace character (spaces, tabs, newlines, etc.).\n",
    "- `maxsplit` (optional): This argument specifies the maximum number of splits to perform. By default (maxsplit is not provided or set to -1), it splits the string at all occurrences of the separator. If maxsplit is a positive number, it splits up to that many times, resulting in a list with a maximum of maxsplit + 1 elements.\n",
    "\n",
    "**Return Value:**\n",
    "\n",
    "A list containing the substrings obtained by splitting the original string based on the separator and maxsplit argument.\n"
   ]
  },
  {
   "cell_type": "code",
   "execution_count": 78,
   "id": "ebdb35da-88d3-48e0-9cb2-27b7f0fed06f",
   "metadata": {},
   "outputs": [
    {
     "name": "stdout",
     "output_type": "stream",
     "text": [
      "['This', 'is', 'a', 'string', 'with', 'multiple', 'words']\n",
      "['This', ' is', ' a string', ' with commas']\n",
      "['This', 'is', 'a', 'string with multiple words']\n"
     ]
    }
   ],
   "source": [
    "text = \"This is a string with multiple words\"\n",
    "\n",
    "# Split the string at all whitespace characters (default separator is any whitespace)\n",
    "words = text.split()\n",
    "print(words)  # Output: ['This', 'is', 'a', 'string', 'with', 'multiple', 'words']\n",
    "\n",
    "# Split the string at commas (\",\")\n",
    "text_with_commas = \"This, is, a string, with commas\"\n",
    "split_with_comma = text_with_commas.split(\",\")\n",
    "print(split_with_comma)  # Output: ['This', ' is', ' a string', ' with commas']\n",
    "\n",
    "# Split the string at \" \", limited to 3 splits\n",
    "split_limited = text.split(\" \", maxsplit=3)\n",
    "print(split_limited)  # Output: ['This', 'is', 'a', 'string with multiple words']\n"
   ]
  },
  {
   "cell_type": "markdown",
   "id": "9dcc9bc8-9641-47eb-9801-51dbd3c64159",
   "metadata": {},
   "source": [
    "<a name=\"38\"></a>\n",
    "\n",
    "#### 38. ``splitlines(keepends)``: Splits the string at line breaks and returns a list of lines."
   ]
  },
  {
   "cell_type": "markdown",
   "id": "04133cde-080c-4de5-8e4e-f7f82c5bc21f",
   "metadata": {},
   "source": [
    "**Functionality:**\n",
    "\n",
    "- Splitting at line breaks: It searches for occurrences of line break characters within the original string. Line break characters can be \"\\n\" (newline), \"\\r\" (carriage return), or \"\\r\\n\" (carriage return + newline) depending on the operating system or how the string was created.\n",
    "- Creating the list: It splits the string at each line break, separating the lines into a list.\n",
    "\n",
    "**Arguments:**\n",
    "\n",
    "- `keepends` (optional): This is a Boolean value that determines whether the line break characters are included in the resulting list elements.\n",
    "  - By default (keepends is False), the line break characters are not included in the list elements.\n",
    "  - If `keepends` is set to True, the line break characters are included at the end of each element in the resulting list.\n",
    "\n",
    "**Return Value:**\n",
    "\n",
    "A list containing the lines obtained by splitting the original string at line breaks, considering the `keepends` argument.\n"
   ]
  },
  {
   "cell_type": "code",
   "execution_count": 79,
   "id": "585a8071-6363-4d97-a62e-6622c1376599",
   "metadata": {},
   "outputs": [
    {
     "name": "stdout",
     "output_type": "stream",
     "text": [
      "['This is a string', 'with multiple lines', 'and another line.']\n",
      "['This is a string\\n', 'with multiple lines\\n', 'and another line.']\n"
     ]
    }
   ],
   "source": [
    "text = \"This is a string\\nwith multiple lines\\nand another line.\"\n",
    "\n",
    "# Splitting the string at line breaks (default behavior)\n",
    "lines_without_breaks = text.splitlines()\n",
    "print(lines_without_breaks)  # Output: ['This is a string', 'with multiple lines', 'and another line.']\n",
    "\n",
    "# Splitting the string at line breaks, including line breaks\n",
    "lines_with_breaks = text.splitlines(keepends=True)\n",
    "print(lines_with_breaks)  # Output: ['This is a string\\n', 'with multiple lines\\n', 'and another line.']\n"
   ]
  },
  {
   "cell_type": "markdown",
   "id": "84df065e-99f1-4fb7-a479-61a54a4630bb",
   "metadata": {},
   "source": [
    "<a name=\"39\"></a>\n",
    "\n",
    "#### 39. startswith(prefix, start, end): Returns true if the string starts with the specified value."
   ]
  },
  {
   "cell_type": "markdown",
   "id": "30d9118a-a5d7-4a75-88b9-8e6b5db0ceaa",
   "metadata": {},
   "source": [
    "**Functionality:**\n",
    "\n",
    "- **Checking the prefix:** It compares the beginning of the string with the provided `prefix` argument.\n",
    "- **Matching:**\n",
    "  - If the characters at the start of the string (up to the length of the `prefix`) match exactly with the characters in the `prefix`, it returns True.\n",
    "  - If there's a mismatch at any character within the specified range, it returns False.\n",
    "\n",
    "**Arguments:**\n",
    "\n",
    "- `prefix` (required): This is the string you want to check if it's present at the beginning of the original string.\n",
    "- `start` (optional): This defines the starting index (inclusive) from where the comparison with the `prefix` should begin. Defaults to 0 (the beginning of the string) if not provided.\n",
    "- `end` (optional): This defines the ending index (exclusive) up to which the comparison with the `prefix` should be performed. Defaults to the length of the string if not provided. Values beyond the string length are treated as the string length.\n",
    "\n",
    "**Return Value:**\n",
    "\n",
    "- A boolean value:\n",
    "  - True if the string starts with the specified `prefix` within the specified search range.\n",
    "  - False if there's a mismatch or the `prefix` is not found within the search range.\n"
   ]
  },
  {
   "cell_type": "code",
   "execution_count": 85,
   "id": "036cd371-f1b1-4f96-a6a3-0cc1f8a20826",
   "metadata": {},
   "outputs": [
    {
     "name": "stdout",
     "output_type": "stream",
     "text": [
      "True\n",
      "True\n",
      "False\n",
      "False\n"
     ]
    }
   ],
   "source": [
    "text = \"This is a string\"\n",
    "\n",
    "# Check if the string starts with \"This\" (default start and end)\n",
    "print(text.startswith(\"This\"))  # Output: True\n",
    "\n",
    "# Check if the string starts with \"is\" starting from index 5 (excluding first 5 characters)\n",
    "print(text.startswith(\"is\", 5))  # Output: True (because \"is\" is at index 5)\n",
    "\n",
    "# Check if the string starts with \"string\" within the first 10 characters\n",
    "print(text.startswith(\"string\", 0, 10))  # Output: False\n",
    "\n",
    "# Check if the string starts with \"xyz\" (not found)\n",
    "print(text.startswith(\"xyz\"))  # Output: False\n"
   ]
  },
  {
   "cell_type": "markdown",
   "id": "92b6835f-b0b0-47c4-acfd-121ea15d29bf",
   "metadata": {},
   "source": [
    "<a name=\"40\"></a>\n",
    "\n",
    "#### 40. ``strip(chars)``: Removes leading and trailing characters from the string."
   ]
  },
  {
   "cell_type": "markdown",
   "id": "b65e9831-85e0-4f5a-be3f-42e150fc9190",
   "metadata": {},
   "source": [
    "**Functionality:**\n",
    "\n",
    "- **Stripping characters:** It examines the string for characters to remove.\n",
    "  - **Default behavior (no argument):**\n",
    "    - If no argument is provided (or `chars` is `None`), it removes leading and trailing whitespace characters (spaces, tabs, newlines, etc.) by default.\n",
    "  - **Custom characters (with argument):**\n",
    "    - If `chars` is provided as a string, it removes any characters from the beginning and end of the string that are present in the `chars` string. The removal happens until a character not in `chars` is encountered at the beginning or end.\n",
    "\n",
    "**Arguments:**\n",
    "\n",
    "- `chars` (optional): This argument specifies the characters to be removed.\n",
    "  - If not provided (or `None`), it removes whitespace characters.\n",
    "  - If provided as a string, it removes occurrences of those characters from the beginning and end of the string.\n",
    "\n",
    "**Return Value:**\n",
    "\n",
    "- It returns a new string with the leading and trailing characters removed according to the specified behavior (whitespace by default or custom characters).\n"
   ]
  },
  {
   "cell_type": "code",
   "execution_count": 86,
   "id": "639c0a97-62d2-467c-94c9-07e2d9c01794",
   "metadata": {},
   "outputs": [
    {
     "name": "stdout",
     "output_type": "stream",
     "text": [
      "hello world\n",
      "hello world\n"
     ]
    }
   ],
   "source": [
    "text_with_spaces = \"   hello world   \"\n",
    "text_with_symbols = \"$$##hello world##$$\"\n",
    "\n",
    "# Removing leading and trailing whitespaces (default behavior)\n",
    "stripped_without_arg = text_with_spaces.strip()\n",
    "print(stripped_without_arg)  # Output: \"hello world\"\n",
    "\n",
    "# Removing leading and trailing dollar signs and hashes\n",
    "stripped_custom = text_with_symbols.strip(\"$#\")\n",
    "print(stripped_custom)  # Output: \"hello world\"\n"
   ]
  },
  {
   "cell_type": "markdown",
   "id": "39b296c2-1cae-432e-a79a-de1ecd0674c6",
   "metadata": {},
   "source": [
    "<a name=\"41\"></a>\n",
    "\n",
    "#### 41. ``swapcase()``: Swaps cases, lower case becomes upper case and vice versa."
   ]
  },
  {
   "cell_type": "code",
   "execution_count": 87,
   "id": "2ecb8066-2e29-4bab-9bd8-605a85202408",
   "metadata": {},
   "outputs": [
    {
     "name": "stdout",
     "output_type": "stream",
     "text": [
      "hELLO wORLD\n"
     ]
    }
   ],
   "source": [
    "s = \"Hello World\"\n",
    "swapped = s.swapcase()\n",
    "print(swapped)  # Output: \"hELLO wORLD\"\n"
   ]
  },
  {
   "cell_type": "markdown",
   "id": "0eb689c6-48ba-4dcc-bcf3-48333ab54798",
   "metadata": {},
   "source": [
    "<a name=\"42\"></a>\n",
    "\n",
    "#### 42. ``title()``: Converts the first character of each word to uppercase."
   ]
  },
  {
   "cell_type": "code",
   "execution_count": 88,
   "id": "0dac3dc3-4d18-468e-8f45-95d2bc10d167",
   "metadata": {},
   "outputs": [
    {
     "name": "stdout",
     "output_type": "stream",
     "text": [
      "Sitare University\n"
     ]
    }
   ],
   "source": [
    "s = \"sitare university\"\n",
    "title_case = s.title()\n",
    "print(title_case)  "
   ]
  },
  {
   "cell_type": "markdown",
   "id": "5bae1bd3-5d84-48ce-b97e-a9af2b8f8330",
   "metadata": {},
   "source": [
    "<a name=\"43\"></a>\n",
    "\n",
    "#### 43. ``upper()``: Converts a string to uppercase."
   ]
  },
  {
   "cell_type": "code",
   "execution_count": 92,
   "id": "fd4bd73d-fa3f-4285-99e1-95912cd29072",
   "metadata": {},
   "outputs": [
    {
     "name": "stdout",
     "output_type": "stream",
     "text": [
      "SITARE UNIVERSITY\n"
     ]
    }
   ],
   "source": [
    "s = \"Sitare University\"\n",
    "upper_case = s.upper()\n",
    "print(upper_case)  \n"
   ]
  },
  {
   "cell_type": "markdown",
   "id": "5d2aa929-1c32-46d0-a718-9d7fa0bc6d1c",
   "metadata": {},
   "source": [
    "<a name=\"44\"></a>\n",
    "\n",
    "#### 44. zfill(width): Fills the string with zeros until it reaches the specified width."
   ]
  },
  {
   "cell_type": "markdown",
   "id": "20b70e21-d43d-42e3-91cb-c4c805bd157c",
   "metadata": {},
   "source": [
    "**Functionality:**\n",
    "\n",
    "- Padding with zeros: It takes a single argument, `width`, which specifies the desired minimum total width of the resulting string.\n",
    "- Adding leading zeros: If the original string length is less than the `width`, the method adds leading zeros to the left side of the string until the total length reaches the specified width.\n",
    "- No change if already wider: If the original string length is already greater than or equal to the `width`, the original string is returned without any modifications.\n",
    "\n",
    "**Argument:**\n",
    "\n",
    "- `width` (required): This is an integer representing the desired minimum total width of the resulting string.\n",
    "\n",
    "**Return Value:**\n",
    "\n",
    "- A new string left-padded with zeros to reach the specified width (if the original string was shorter).\n",
    "- The original string remains unchanged if its length is already greater than or equal to the `width`.\n"
   ]
  },
  {
   "cell_type": "code",
   "execution_count": 93,
   "id": "e301bc49-e417-4c8c-8faa-e1fbd52cc8d1",
   "metadata": {},
   "outputs": [
    {
     "name": "stdout",
     "output_type": "stream",
     "text": [
      "0000000123\n",
      "This is a long string\n"
     ]
    }
   ],
   "source": [
    "number_as_string = \"123\"\n",
    "\n",
    "# Padding the string to width 10 with zeros\n",
    "padded_number = number_as_string.zfill(10)\n",
    "print(padded_number)  # Output: \"0000000123\"\n",
    "\n",
    "# No padding needed if the string is already wider or equal to the width\n",
    "already_wide = \"This is a long string\"\n",
    "wide_enough = already_wide.zfill(10)\n",
    "print(wide_enough)  # Output: \"This is a long string\" (no change)\n"
   ]
  },
  {
   "cell_type": "code",
   "execution_count": null,
   "id": "11fd581f-f714-4fcc-b50b-6a4c1b8687f9",
   "metadata": {},
   "outputs": [],
   "source": []
  }
 ],
 "metadata": {
  "kernelspec": {
   "display_name": "Python 3 (ipykernel)",
   "language": "python",
   "name": "python3"
  },
  "language_info": {
   "codemirror_mode": {
    "name": "ipython",
    "version": 3
   },
   "file_extension": ".py",
   "mimetype": "text/x-python",
   "name": "python",
   "nbconvert_exporter": "python",
   "pygments_lexer": "ipython3",
   "version": "3.10.13"
  }
 },
 "nbformat": 4,
 "nbformat_minor": 5
}
