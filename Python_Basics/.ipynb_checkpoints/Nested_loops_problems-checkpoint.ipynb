{
 "cells": [
  {
   "cell_type": "markdown",
   "id": "b6ce12db-ce7b-483e-9354-575539da78ba",
   "metadata": {},
   "source": [
    "# Python Nested Loops Problems"
   ]
  },
  {
   "attachments": {
    "5b13287a-77e4-48bf-8a88-99dcc84dbbc1.png": {
     "image/png": "[encoded data removed]"
    }
   },
   "cell_type": "markdown",
   "id": "ae4ca414-3096-4f23-9861-8c6f7f47ab7f",
   "metadata": {},
   "source": [
    "#### 1. Generate multiplication table for a given range\n",
    "\n",
    "For example -->\n",
    "\n",
    "\n",
    "![multiplication_table.png](attachment:5b13287a-77e4-48bf-8a88-99dcc84dbbc1.png)"
   ]
  },
  {
   "cell_type": "code",
   "execution_count": null,
   "id": "199e7a9c-85b4-4f73-b294-68d0aec2b26d",
   "metadata": {},
   "outputs": [],
   "source": []
  },
  {
   "cell_type": "code",
   "execution_count": null,
   "id": "b893ce96-0f3f-48fb-a88d-2a729fa5de73",
   "metadata": {},
   "outputs": [],
   "source": []
  },
  {
   "cell_type": "markdown",
   "id": "380dba46-2f9b-43a0-bb8d-4e2207a8aec0",
   "metadata": {},
   "source": [
    "#### 2. Find Perfect number in a given Range\n",
    "\n",
    "- Check a number is perfect or not by calculating it's divisor's sum is equal to the number or not"
   ]
  },
  {
   "cell_type": "code",
   "execution_count": null,
   "id": "f3ec24f5-e8bf-4f6e-b5a9-9dcfe57b3e0b",
   "metadata": {},
   "outputs": [],
   "source": []
  },
  {
   "cell_type": "code",
   "execution_count": null,
   "id": "f6018337-e3eb-44a5-b60b-e6090feb23d6",
   "metadata": {},
   "outputs": [],
   "source": []
  },
  {
   "cell_type": "markdown",
   "id": "1eed2d31-c4a4-49af-9eca-d69517d97f46",
   "metadata": {},
   "source": [
    "#### 3. Find Palindrome numbers in a given range\n",
    "\n",
    "- Check a number is palindrome or not by reversing the number is equal to the original number"
   ]
  },
  {
   "cell_type": "code",
   "execution_count": null,
   "id": "bed9f0c9-f92c-4e89-abc3-ede878b05171",
   "metadata": {},
   "outputs": [],
   "source": []
  },
  {
   "cell_type": "code",
   "execution_count": null,
   "id": "641299d4-5c98-4bc4-9b57-472b822c7958",
   "metadata": {},
   "outputs": [],
   "source": []
  },
  {
   "cell_type": "markdown",
   "id": "e4d16d06-7edd-4749-acfe-05214c3e1906",
   "metadata": {},
   "source": [
    "#### 4. Find Armstrong numbers within a given range without using string methods\n",
    "\n",
    "- A Armstrong number is a number that is the sum of its own digits each raised to the power of the number of digits is qual to original number.\n",
    "\n",
    "- For example : $153 = 1^3 + 5^3 + 3^3 $\n",
    "\n",
    "  $153 = 1 + 125 + 27 $"
   ]
  },
  {
   "cell_type": "code",
   "execution_count": null,
   "id": "d72521eb-bac6-448f-a64e-ce6a788b8041",
   "metadata": {},
   "outputs": [],
   "source": []
  },
  {
   "cell_type": "code",
   "execution_count": null,
   "id": "62982317-9868-4d05-be01-7bed55c5d4d7",
   "metadata": {},
   "outputs": [],
   "source": []
  },
  {
   "cell_type": "markdown",
   "id": "41091549-eba8-4587-928a-5c419c921599",
   "metadata": {},
   "source": [
    "#### 5. Find Strong numbers within a given range\n",
    "\n",
    "- A Strong number is a number that is the sum of its own digits factorial is equal to the original number\n",
    "\n",
    "- For Example: $145 = 1! + 4! + 5!$\n",
    "\n",
    "\n",
    "  $ 145 = 1 + 24 + 120$"
   ]
  },
  {
   "cell_type": "code",
   "execution_count": null,
   "id": "a9758620-8573-466b-ac05-c3fcc025d8ba",
   "metadata": {},
   "outputs": [],
   "source": []
  },
  {
   "cell_type": "code",
   "execution_count": null,
   "id": "d0fd4d5f-3395-471b-9e98-a1325bb588fa",
   "metadata": {},
   "outputs": [],
   "source": []
  },
  {
   "cell_type": "markdown",
   "id": "5d47f2f9-d09e-4f53-bf39-4ce716878b6d",
   "metadata": {},
   "source": [
    "#### 6. Find all prime numbers within a given range using Sieve of Eratosthenes Method/Algorithm"
   ]
  },
  {
   "cell_type": "code",
   "execution_count": null,
   "id": "ca0a6040-9660-4d6a-a746-5f27959d5ef5",
   "metadata": {},
   "outputs": [],
   "source": []
  }
 ],
 "metadata": {
  "kernelspec": {
   "display_name": "Python 3 (ipykernel)",
   "language": "python",
   "name": "python3"
  },
  "language_info": {
   "codemirror_mode": {
    "name": "ipython",
    "version": 3
   },
   "file_extension": ".py",
   "mimetype": "text/x-python",
   "name": "python",
   "nbconvert_exporter": "python",
   "pygments_lexer": "ipython3",
   "version": "3.10.13"
  }
 },
 "nbformat": 4,
 "nbformat_minor": 5
}
