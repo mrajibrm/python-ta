{
 "cells": [
  {
   "cell_type": "markdown",
   "id": "467524d9-8e2d-450b-a226-028315bd822d",
   "metadata": {},
   "source": [
    "# Python Operators"
   ]
  },
  {
   "cell_type": "markdown",
   "id": "ec796eb7-b8de-434c-b88b-bcc06d40bb5e",
   "metadata": {},
   "source": [
    "## Arithmetic Operators\n",
    "\n",
    "**Used to Perform arithmetic operations**\n",
    "\n",
    "| Operator | Description         | Syntax  |\r\n",
    "|----------|---------------------|---------|\r\n",
    "| +        | Addition            | X + Y   |\r\n",
    "| -        | Subtraction         | X - Y   |\r\n",
    "| *        | Multiplication      | X * Y   |\r\n",
    "| /        | Division(float)     | X / Y   |\r\n",
    "| //       | Division(floor)     | X // Y  |\r\n",
    "| %        | Modulus             | X % Y   |\r\n",
    "| **       | Exponent / Power    | X ** Y  |\r\n"
   ]
  },
  {
   "cell_type": "code",
   "execution_count": null,
   "id": "5d1d77ba-ac84-4bf3-a276-afb2e810a1e5",
   "metadata": {},
   "outputs": [],
   "source": []
  },
  {
   "cell_type": "markdown",
   "id": "513e4f18-c14d-4ea8-af23-af8f8701d3ac",
   "metadata": {},
   "source": [
    "## Comparison / Relational Operators\r\n",
    "**Compares the values. It either returns True or False according to the condition.**\r\n",
    "\n",
    "\n",
    "\n",
    "\n",
    "\n",
    "| Operator | Description            | Syntax  |\r\n",
    "|----------|------------------------|---------|\r\n",
    "| >        | Greater than           | X > Y   |\r\n",
    "| <        | Less than              | X < Y   |\r\n",
    "| ==       | Equal to               | X == Y  |\r\n",
    "| !=       | Not equal to           | X != Y  |\r\n",
    "| >=       | Greater than or Equal to| X >= Y |\r\n",
    "| <=       | Less than or Equal to  | X <= Y |\r\n"
   ]
  },
  {
   "cell_type": "code",
   "execution_count": null,
   "id": "d9a28374-f97f-4a35-b5c2-a51f6401bad8",
   "metadata": {},
   "outputs": [],
   "source": []
  },
  {
   "cell_type": "markdown",
   "id": "95a9ad02-3e3a-49ea-ac27-f6491e8f6530",
   "metadata": {},
   "source": [
    "## Logical Operators\r\n",
    "\n",
    "**Perform Logical AND, Logical OR, and Logical NOT operations. It is used to combine conditional statements.**\n",
    "\n",
    "\n",
    "| Operator | Description                                 | Syntax   |\r\n",
    "|----------|---------------------------------------------|----------|\r\n",
    "| and      | Logical AND: True if both operands are true  | X and Y  |\r\n",
    "| or       | Logical OR: True if either operand is True   | X or Y   |\r\n",
    "| not      | Logical NOT: True if operand is false       | not X    |\r\n",
    "\r\n",
    "\n"
   ]
  },
  {
   "cell_type": "code",
   "execution_count": null,
   "id": "58aa6812-7d80-4beb-aa35-e4dd232959f5",
   "metadata": {},
   "outputs": [],
   "source": []
  },
  {
   "cell_type": "markdown",
   "id": "1cff80a7-6fd7-4348-89d7-60cf64416f3f",
   "metadata": {},
   "source": [
    "## Bitwise Operators\n",
    "\n",
    "**Act on bits and perform bit-by-bit operations. These are used to operate on binary numbers.**\n",
    "\n",
    "| Operator | Description          | Syntax  |\r\n",
    "|----------|----------------------|---------|\r\n",
    "| &        | Bitwise AND          | X & Y   |\r\n",
    "| \\|       | Bitwise OR           | X \\| Y  |\r\n",
    "| ~        | Bitwise NOT          | ~ X     |\r\n",
    "| ^        | Bitwise XOR          | X ^ Y   |\r\n",
    "| >>       | Bitwise right shift  | X >>    |\r\n",
    "| <<       | Bitwise left shift   | X <<    |\r\n",
    "\n"
   ]
  },
  {
   "cell_type": "code",
   "execution_count": null,
   "id": "74b9ccaa-6ca2-4a3c-bd35-a9200fb632c6",
   "metadata": {},
   "outputs": [],
   "source": []
  },
  {
   "cell_type": "markdown",
   "id": "84315963-7d7a-42b4-a00b-c5222539d22a",
   "metadata": {},
   "source": [
    "## Assignment Operators\n",
    "\n",
    "**Used to assign values to the variables.**\n",
    "\n",
    "| Operator | Description                | Syntax    |\r\n",
    "|----------|----------------------------|-----------|\r\n",
    "| =        | Assign the value           | X = Y + Z |\r\n",
    "| +=       | Add and Assign             | X += Y    |\r\n",
    "| -=       | Subtract and Assign        | X -= Y    |\r\n",
    "| *=       | Multiply and Assign        | X *= Y    |\r\n",
    "| /=       | Divide(float) and Assign   | X /= Y    |\r\n",
    "| %=       | Modulus and Assign         | X %= Y    |\r\n",
    "| //=      | Divide(floor) and Assign   | X /|\r\n",
    "| **=      | Exponent and Assign                | a **= b      |\r\n",
    "| &=       | Bitwise AND and Assign              | a &= b       |\r\n",
    "| \\|=      | Bitwise OR and Assign               | a \\|= b      |\r\n",
    "| ^=       | Bitwise XOR and Assign              | a ^= b       |\r\n",
    "| >>=      | Bitwise right shift and Assign      | a >>= b      |\r\n",
    "| <<=      | Bitwise left shift and Assign       | a <<= b      |\r\n",
    "/= Y   |\r\n"
   ]
  },
  {
   "cell_type": "code",
   "execution_count": null,
   "id": "128ae01a-30c4-40e3-8c4f-8acf7576728f",
   "metadata": {},
   "outputs": [],
   "source": []
  },
  {
   "cell_type": "markdown",
   "id": "e8eb1b61-f50a-4a4a-9733-b44c25494371",
   "metadata": {},
   "source": [
    "## Identity Operator\r\n",
    "**Used to check if two values are located on the same part of the memory. Two variables that are equal do not imply that they are identical.**\n",
    "\n",
    "| Operator | Description                               | Syntax     |\r\n",
    "|----------|-------------------------------------------|------------|\r\n",
    "| is       | True if Operands are Identical            | A is C     |\r\n",
    "| is not   | True if Operands are not identical        | A is not B |\r\n",
    "\r\n",
    "\n"
   ]
  },
  {
   "cell_type": "code",
   "execution_count": null,
   "id": "20fe771b-c489-4439-a8aa-bb541f38f981",
   "metadata": {},
   "outputs": [],
   "source": []
  },
  {
   "cell_type": "markdown",
   "id": "53d732fd-5466-44ba-8af8-218bcd95b30a",
   "metadata": {},
   "source": [
    "## Membership Operator\r\n",
    "**Used to test whether a value or variable is in a sequence.**\n",
    "\n",
    "| Operator | Description                               | Syntax          |\r\n",
    "|----------|-------------------------------------------|-----------------|\r\n",
    "| in       | True if value is found in sequence        | X in List1      |\r\n",
    "| not in   | True if value is not found in sequence    | Y not in List1  |\r\n",
    "\r\n",
    "\n",
    "\n"
   ]
  },
  {
   "cell_type": "code",
   "execution_count": null,
   "id": "955eaff4-ba64-4570-992b-93f25fcc7387",
   "metadata": {},
   "outputs": [],
   "source": []
  },
  {
   "cell_type": "markdown",
   "id": "2515dcec-6ab7-4715-ae46-91d41b0cd282",
   "metadata": {},
   "source": [
    "## Ternary Operator (Optional)\r\n",
    "**Also known as conditional expressions are operators that evaluate something based on a condition being true or false.**\n",
    "\n",
    "| Syntax                                           | Example                                         |\r\n",
    "|--------------------------------------------------|-------------------------------------------------|\r\n",
    "| \\`[on_true\\] if \\[expression\\] else \\[on_false\\]\\` | \\`a, b = 10, 20;\\`<br>\\`minimum = a if a < b else b\\` |\r\n"
   ]
  },
  {
   "cell_type": "code",
   "execution_count": null,
   "id": "7640a47d-868f-420e-8e20-e252e9aa3c5e",
   "metadata": {},
   "outputs": [],
   "source": []
  },
  {
   "cell_type": "code",
   "execution_count": null,
   "id": "c627174d-1bdd-4de6-8cca-12c71df00ff7",
   "metadata": {},
   "outputs": [],
   "source": []
  }
 ],
 "metadata": {
  "kernelspec": {
   "display_name": "Python 3 (ipykernel)",
   "language": "python",
   "name": "python3"
  },
  "language_info": {
   "codemirror_mode": {
    "name": "ipython",
    "version": 3
   },
   "file_extension": ".py",
   "mimetype": "text/x-python",
   "name": "python",
   "nbconvert_exporter": "python",
   "pygments_lexer": "ipython3",
   "version": "3.10.13"
  }
 },
 "nbformat": 4,
 "nbformat_minor": 5
}
