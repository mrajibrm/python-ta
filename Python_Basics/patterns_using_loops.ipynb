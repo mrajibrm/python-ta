{
 "cells": [
  {
   "cell_type": "markdown",
   "id": "19be9292-ef20-4197-b3ea-0ae4083fc986",
   "metadata": {},
   "source": [
    "# Print the following patterns using while Loop"
   ]
  },
  {
   "attachments": {
    "df828aae-4703-4487-9e95-802dacd1a793.png": {
     "image/png": "[encoded data removed]"
    }
   },
   "cell_type": "markdown",
   "id": "7ca86def-343e-4485-af0c-c8a854c588d4",
   "metadata": {},
   "source": [
    "### Pattern 1:\n",
    "![pattern_1.png](attachment:df828aae-4703-4487-9e95-802dacd1a793.png)"
   ]
  },
  {
   "cell_type": "code",
   "execution_count": null,
   "id": "c1f9a9df-28e2-4842-9304-658505eeb4ba",
   "metadata": {},
   "outputs": [],
   "source": []
  },
  {
   "attachments": {
    "778aaa09-6693-45d7-85ed-23b488e3a7d8.png": {
     "image/png": "[encoded data removed]"
    }
   },
   "cell_type": "markdown",
   "id": "0e9198dd-585a-4f8a-aa63-6c23a2e232bf",
   "metadata": {},
   "source": [
    "### Pattern 2:\n",
    "![pattern_2.png](attachment:778aaa09-6693-45d7-85ed-23b488e3a7d8.png)"
   ]
  },
  {
   "cell_type": "code",
   "execution_count": null,
   "id": "8c2d8f2f-6bc6-4bb2-9cbd-da1c59a2d7f5",
   "metadata": {},
   "outputs": [],
   "source": []
  },
  {
   "attachments": {
    "9eb43db0-ef9a-4e90-bc47-2467ab563881.png": {
     "image/png": "[encoded data removed]"
    }
   },
   "cell_type": "markdown",
   "id": "f568e97d-209d-48e4-9c73-14b0c24d6a27",
   "metadata": {},
   "source": [
    "### Pattern 3\n",
    "![pattern_3.png](attachment:9eb43db0-ef9a-4e90-bc47-2467ab563881.png)"
   ]
  },
  {
   "cell_type": "code",
   "execution_count": null,
   "id": "a3cb7c65-95d3-429f-9a67-1f776c36de6f",
   "metadata": {},
   "outputs": [],
   "source": []
  },
  {
   "attachments": {
    "92af11eb-bbc3-4699-9c19-8b2041b72e63.png": {
     "image/png": "[encoded data removed]"
    }
   },
   "cell_type": "markdown",
   "id": "daad3ba5-3ef5-4041-8841-d016096600dc",
   "metadata": {},
   "source": [
    "### Print the following Pascal Triangle using while loop\n",
    "![pascal_triangle.png](attachment:92af11eb-bbc3-4699-9c19-8b2041b72e63.png)\n",
    "\n",
    "In this triangle:\r\n",
    "\r\n",
    "- The first row has only one number, which is 1.\r\n",
    "\r\n",
    "- The second row starts and ends with 1, and the number in the middle is the sum of the two 1s from the row above.\r\n",
    "\r\n",
    "- Similarly, each number in the subsequent rows is the sum of the two numbers directly above it from the previous row.\r\n",
    "row."
   ]
  },
  {
   "cell_type": "code",
   "execution_count": null,
   "id": "0f5daf4b-9e26-4f48-8975-59bfb4722402",
   "metadata": {},
   "outputs": [],
   "source": []
  },
  {
   "cell_type": "markdown",
   "id": "4426e606-7258-4b3c-bdd0-db20d6e942a9",
   "metadata": {},
   "source": [
    "# Print the following patterns using for Loop"
   ]
  },
  {
   "attachments": {
    "df828aae-4703-4487-9e95-802dacd1a793.png": {
     "image/png": "[encoded data removed]"
    }
   },
   "cell_type": "markdown",
   "id": "e2eb3f8e-ca5c-40c9-b45d-c95519f646c0",
   "metadata": {},
   "source": [
    "### Pattern 1:\n",
    "![pattern_1.png](attachment:df828aae-4703-4487-9e95-802dacd1a793.png)"
   ]
  },
  {
   "cell_type": "code",
   "execution_count": null,
   "id": "a711253e-f0d2-4037-9f68-515cce438d07",
   "metadata": {},
   "outputs": [],
   "source": []
  },
  {
   "attachments": {
    "778aaa09-6693-45d7-85ed-23b488e3a7d8.png": {
     "image/png": "[encoded data removed]"
    }
   },
   "cell_type": "markdown",
   "id": "bce05870-6160-411c-b999-aea08f8b25e3",
   "metadata": {},
   "source": [
    "### Pattern 2:\n",
    "![pattern_2.png](attachment:778aaa09-6693-45d7-85ed-23b488e3a7d8.png)"
   ]
  },
  {
   "cell_type": "code",
   "execution_count": null,
   "id": "8227b93c-f1de-4f7b-a3b9-da249520c816",
   "metadata": {},
   "outputs": [],
   "source": []
  },
  {
   "attachments": {
    "9eb43db0-ef9a-4e90-bc47-2467ab563881.png": {
     "image/png": "[encoded data removed]"
    }
   },
   "cell_type": "markdown",
   "id": "56dcdeec-9813-4241-8d50-cd7aab0ed89a",
   "metadata": {},
   "source": [
    "### Pattern 3\n",
    "![pattern_3.png](attachment:9eb43db0-ef9a-4e90-bc47-2467ab563881.png)"
   ]
  },
  {
   "cell_type": "code",
   "execution_count": null,
   "id": "25ec541a-bdf6-44f0-a9b8-775d436e54bf",
   "metadata": {},
   "outputs": [],
   "source": []
  },
  {
   "attachments": {
    "92af11eb-bbc3-4699-9c19-8b2041b72e63.png": {
     "image/png": "[encoded data removed]"
    }
   },
   "cell_type": "markdown",
   "id": "b7fa8bad-7b0c-4c07-8814-653a96cb4ba0",
   "metadata": {},
   "source": [
    "### Print the following Pascal Triangle using for loop\n",
    "![pascal_triangle.png](attachment:92af11eb-bbc3-4699-9c19-8b2041b72e63.png)\n",
    "\n",
    "In this triangle:\r\n",
    "\r\n",
    "- The first row has only one number, which is 1.\r\n",
    "\r\n",
    "- The second row starts and ends with 1, and the number in the middle is the sum of the two 1s from the row above.\r\n",
    "\r\n",
    "- Similarly, each number in the subsequent rows is the sum of the two numbers directly above it from the previous row.\r\n",
    "row."
   ]
  },
  {
   "cell_type": "code",
   "execution_count": null,
   "id": "db2b91b3-b0a4-46c2-95ab-a985536b9078",
   "metadata": {},
   "outputs": [],
   "source": []
  }
 ],
 "metadata": {
  "kernelspec": {
   "display_name": "Python 3 (ipykernel)",
   "language": "python",
   "name": "python3"
  },
  "language_info": {
   "codemirror_mode": {
    "name": "ipython",
    "version": 3
   },
   "file_extension": ".py",
   "mimetype": "text/x-python",
   "name": "python",
   "nbconvert_exporter": "python",
   "pygments_lexer": "ipython3",
   "version": "3.10.13"
  }
 },
 "nbformat": 4,
 "nbformat_minor": 5
}
